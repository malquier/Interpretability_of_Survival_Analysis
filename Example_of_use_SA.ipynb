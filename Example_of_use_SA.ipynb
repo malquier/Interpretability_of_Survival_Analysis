{
 "cells": [
  {
   "cell_type": "markdown",
   "metadata": {},
   "source": [
    "# **This notebook aims to explain the differents uses of preprocessing pipeline and Model class in order to interprete Classifier Models for Survival Analysis**"
   ]
  },
  {
   "cell_type": "markdown",
   "metadata": {},
   "source": [
    "## **Librairies import**"
   ]
  },
  {
   "cell_type": "code",
   "execution_count": 10,
   "metadata": {},
   "outputs": [
    {
     "name": "stdout",
     "output_type": "stream",
     "text": [
      "Requirement already satisfied: numpy==1.26.4 in c:\\users\\alqui\\appdata\\local\\programs\\python\\python312\\lib\\site-packages (from -r requirements.txt (line 1)) (1.26.4)\n",
      "Requirement already satisfied: pandas==2.2.0 in c:\\users\\alqui\\appdata\\local\\programs\\python\\python312\\lib\\site-packages (from -r requirements.txt (line 2)) (2.2.0)\n",
      "Requirement already satisfied: colorama==0.4.6 in c:\\users\\alqui\\appdata\\local\\programs\\python\\python312\\lib\\site-packages (from -r requirements.txt (line 3)) (0.4.6)\n",
      "Requirement already satisfied: IPython==8.21.0 in c:\\users\\alqui\\appdata\\roaming\\python\\python312\\site-packages (from -r requirements.txt (line 4)) (8.21.0)\n",
      "Requirement already satisfied: tqdm==4.66.1 in c:\\users\\alqui\\appdata\\local\\programs\\python\\python312\\lib\\site-packages (from -r requirements.txt (line 5)) (4.66.1)\n",
      "Requirement already satisfied: scikit-learn==1.3.2 in c:\\users\\alqui\\appdata\\local\\programs\\python\\python312\\lib\\site-packages (from -r requirements.txt (line 6)) (1.3.2)\n",
      "Requirement already satisfied: scikit-survival==0.22.2 in c:\\users\\alqui\\appdata\\local\\programs\\python\\python312\\lib\\site-packages (from -r requirements.txt (line 7)) (0.22.2)\n",
      "Requirement already satisfied: optuna==3.5.0 in c:\\users\\alqui\\appdata\\local\\programs\\python\\python312\\lib\\site-packages (from -r requirements.txt (line 8)) (3.5.0)\n",
      "Requirement already satisfied: shap==0.44.1 in c:\\users\\alqui\\appdata\\local\\programs\\python\\python312\\lib\\site-packages (from -r requirements.txt (line 9)) (0.44.1)\n",
      "Requirement already satisfied: lime in c:\\users\\alqui\\appdata\\local\\programs\\python\\python312\\lib\\site-packages (from -r requirements.txt (line 10)) (0.2.0.1)\n"
     ]
    },
    {
     "name": "stderr",
     "output_type": "stream",
     "text": [
      "ERROR: Could not find a version that satisfies the requirement itertools (from versions: none)\n",
      "ERROR: No matching distribution found for itertools\n"
     ]
    }
   ],
   "source": [
    "#Installation of required librairies\n",
    "!pip install -r requirements.txt"
   ]
  },
  {
   "cell_type": "code",
   "execution_count": 3,
   "metadata": {},
   "outputs": [],
   "source": [
    "#Reset the kernel\n",
    "%reset -f"
   ]
  },
  {
   "cell_type": "code",
   "execution_count": 4,
   "metadata": {},
   "outputs": [],
   "source": [
    "%run Model_survival.ipynb     # pip install nbformat\n",
    "import pandas as pd\n",
    "import numpy as np\n",
    "from sksurv.datasets import get_x_y\n",
    "from sklearn.model_selection import train_test_split"
   ]
  },
  {
   "cell_type": "markdown",
   "metadata": {},
   "source": [
    "## **Preprocessing**"
   ]
  },
  {
   "cell_type": "markdown",
   "metadata": {},
   "source": [
    "### **Dataset import**"
   ]
  },
  {
   "cell_type": "code",
   "execution_count": 5,
   "metadata": {},
   "outputs": [],
   "source": [
    "# Dataset Readmission\n",
    "data_rea = pd.read_csv(\"readmission.csv\")"
   ]
  },
  {
   "cell_type": "code",
   "execution_count": 33,
   "metadata": {},
   "outputs": [],
   "source": [
    "# Dataset Insurance\n",
    "data_ins = pd.read_csv(\"X_train.csv\")\n",
    "ins_credit = pd.read_csv(\"y_train.csv\")\n",
    "\n",
    "data_ins.rename(columns = {'0':'age','1':'sex', '2':'smoker', '3':'pren_prod', '4':'pren_comp', '5':'point_sales', '6': 'product_type', '7': 'dist_channel', '8': 'pay_freq', '9': 'pay_method', '10':'profession'}, inplace = True)\n"
   ]
  },
  {
   "cell_type": "markdown",
   "metadata": {},
   "source": [
    "You need to sort your data to keep only the covariates of interest. In addition, there must be no missing data."
   ]
  },
  {
   "cell_type": "code",
   "execution_count": 6,
   "metadata": {},
   "outputs": [],
   "source": [
    "rea_sorted = data_rea.sort_values(by=['id', 'enum'], ascending=[True, True])\n",
    "rea_filtred = rea_sorted.groupby('id').last().reset_index()\n",
    "\n",
    "rea_final = rea_filtred.drop(columns=['id', 't.start', 't.stop', 'event'])"
   ]
  },
  {
   "cell_type": "code",
   "execution_count": 28,
   "metadata": {},
   "outputs": [
    {
     "data": {
      "text/html": [
       "<div>\n",
       "<style scoped>\n",
       "    .dataframe tbody tr th:only-of-type {\n",
       "        vertical-align: middle;\n",
       "    }\n",
       "\n",
       "    .dataframe tbody tr th {\n",
       "        vertical-align: top;\n",
       "    }\n",
       "\n",
       "    .dataframe thead th {\n",
       "        text-align: right;\n",
       "    }\n",
       "</style>\n",
       "<table border=\"1\" class=\"dataframe\">\n",
       "  <thead>\n",
       "    <tr style=\"text-align: right;\">\n",
       "      <th></th>\n",
       "      <th>age</th>\n",
       "      <th>sex</th>\n",
       "      <th>smoker</th>\n",
       "      <th>pren_prod</th>\n",
       "      <th>pren_comp</th>\n",
       "      <th>point_sales</th>\n",
       "      <th>product_type</th>\n",
       "      <th>dist_channel</th>\n",
       "      <th>pay_freq</th>\n",
       "      <th>pay_method</th>\n",
       "      <th>profession</th>\n",
       "      <th>evento</th>\n",
       "      <th>time</th>\n",
       "    </tr>\n",
       "  </thead>\n",
       "  <tbody>\n",
       "    <tr>\n",
       "      <th>7909</th>\n",
       "      <td>46</td>\n",
       "      <td>1</td>\n",
       "      <td>1</td>\n",
       "      <td>76.50</td>\n",
       "      <td>0.00</td>\n",
       "      <td>0</td>\n",
       "      <td>8</td>\n",
       "      <td>2</td>\n",
       "      <td>3</td>\n",
       "      <td>1</td>\n",
       "      <td>1</td>\n",
       "      <td>True</td>\n",
       "      <td>16.0</td>\n",
       "    </tr>\n",
       "    <tr>\n",
       "      <th>7910</th>\n",
       "      <td>31</td>\n",
       "      <td>0</td>\n",
       "      <td>1</td>\n",
       "      <td>210.00</td>\n",
       "      <td>0.00</td>\n",
       "      <td>0</td>\n",
       "      <td>0</td>\n",
       "      <td>1</td>\n",
       "      <td>1</td>\n",
       "      <td>0</td>\n",
       "      <td>2</td>\n",
       "      <td>True</td>\n",
       "      <td>1762.0</td>\n",
       "    </tr>\n",
       "    <tr>\n",
       "      <th>7911</th>\n",
       "      <td>42</td>\n",
       "      <td>1</td>\n",
       "      <td>1</td>\n",
       "      <td>21.25</td>\n",
       "      <td>22.80</td>\n",
       "      <td>0</td>\n",
       "      <td>7</td>\n",
       "      <td>2</td>\n",
       "      <td>0</td>\n",
       "      <td>1</td>\n",
       "      <td>0</td>\n",
       "      <td>True</td>\n",
       "      <td>91.0</td>\n",
       "    </tr>\n",
       "    <tr>\n",
       "      <th>7912</th>\n",
       "      <td>18</td>\n",
       "      <td>0</td>\n",
       "      <td>1</td>\n",
       "      <td>600.00</td>\n",
       "      <td>1660.29</td>\n",
       "      <td>1</td>\n",
       "      <td>8</td>\n",
       "      <td>1</td>\n",
       "      <td>3</td>\n",
       "      <td>0</td>\n",
       "      <td>1</td>\n",
       "      <td>False</td>\n",
       "      <td>1035.0</td>\n",
       "    </tr>\n",
       "    <tr>\n",
       "      <th>7913</th>\n",
       "      <td>29</td>\n",
       "      <td>1</td>\n",
       "      <td>1</td>\n",
       "      <td>43.45</td>\n",
       "      <td>0.00</td>\n",
       "      <td>1</td>\n",
       "      <td>8</td>\n",
       "      <td>2</td>\n",
       "      <td>3</td>\n",
       "      <td>1</td>\n",
       "      <td>1</td>\n",
       "      <td>True</td>\n",
       "      <td>2041.0</td>\n",
       "    </tr>\n",
       "  </tbody>\n",
       "</table>\n",
       "</div>"
      ],
      "text/plain": [
       "      age  sex  smoker  pren_prod  pren_comp  point_sales  product_type  \\\n",
       "7909   46    1       1      76.50       0.00            0             8   \n",
       "7910   31    0       1     210.00       0.00            0             0   \n",
       "7911   42    1       1      21.25      22.80            0             7   \n",
       "7912   18    0       1     600.00    1660.29            1             8   \n",
       "7913   29    1       1      43.45       0.00            1             8   \n",
       "\n",
       "      dist_channel  pay_freq  pay_method  profession  evento    time  \n",
       "7909             2         3           1           1    True    16.0  \n",
       "7910             1         1           0           2    True  1762.0  \n",
       "7911             2         0           1           0    True    91.0  \n",
       "7912             1         3           0           1   False  1035.0  \n",
       "7913             2         3           1           1    True  2041.0  "
      ]
     },
     "execution_count": 28,
     "metadata": {},
     "output_type": "execute_result"
    }
   ],
   "source": [
    "df = pd.concat([data_ins, ins_credit], axis=1).drop(columns=['Unnamed: 0'])\n",
    "categorial_columns = ['sex', 'smoker', 'point_sales', 'product_type', 'dist_channel', 'pay_freq', 'pay_method', 'profession']\n",
    "\n",
    "# remove negative time rows\n",
    "df = df[df['time'] > 0]\n",
    "\n",
    "df.tail()"
   ]
  },
  {
   "cell_type": "markdown",
   "metadata": {},
   "source": [
    "### **Encoding Data**"
   ]
  },
  {
   "cell_type": "code",
   "execution_count": 7,
   "metadata": {},
   "outputs": [
    {
     "ename": "NameError",
     "evalue": "name 'df' is not defined",
     "output_type": "error",
     "traceback": [
      "\u001b[1;31m---------------------------------------------------------------------------\u001b[0m",
      "\u001b[1;31mNameError\u001b[0m                                 Traceback (most recent call last)",
      "Cell \u001b[1;32mIn[7], line 1\u001b[0m\n\u001b[1;32m----> 1\u001b[0m df_ins_encoded \u001b[38;5;241m=\u001b[39m encoded_data(\u001b[43mdf\u001b[49m, categorial_columns)\n\u001b[0;32m      2\u001b[0m df_ins_final \u001b[38;5;241m=\u001b[39m df_ins_encoded\u001b[38;5;241m.\u001b[39mdropna()\n\u001b[0;32m      4\u001b[0m df_ins_final\u001b[38;5;241m.\u001b[39mhead()\n",
      "\u001b[1;31mNameError\u001b[0m: name 'df' is not defined"
     ]
    }
   ],
   "source": [
    "df_ins_encoded = encoded_data(df, categorial_columns)\n",
    "df_ins_final = df_ins_encoded.dropna()\n",
    "\n",
    "df_ins_final.head()"
   ]
  },
  {
   "cell_type": "code",
   "execution_count": 8,
   "metadata": {},
   "outputs": [
    {
     "data": {
      "text/html": [
       "<div>\n",
       "<style scoped>\n",
       "    .dataframe tbody tr th:only-of-type {\n",
       "        vertical-align: middle;\n",
       "    }\n",
       "\n",
       "    .dataframe tbody tr th {\n",
       "        vertical-align: top;\n",
       "    }\n",
       "\n",
       "    .dataframe thead th {\n",
       "        text-align: right;\n",
       "    }\n",
       "</style>\n",
       "<table border=\"1\" class=\"dataframe\">\n",
       "  <thead>\n",
       "    <tr style=\"text-align: right;\">\n",
       "      <th></th>\n",
       "      <th>chemo_NonTreated</th>\n",
       "      <th>chemo_Treated</th>\n",
       "      <th>sex_Female</th>\n",
       "      <th>sex_Male</th>\n",
       "      <th>dukes_A-B</th>\n",
       "      <th>dukes_C</th>\n",
       "      <th>dukes_D</th>\n",
       "      <th>charlson_0</th>\n",
       "      <th>charlson_1-2</th>\n",
       "      <th>charlson_3</th>\n",
       "      <th>enum</th>\n",
       "      <th>time</th>\n",
       "      <th>death</th>\n",
       "    </tr>\n",
       "  </thead>\n",
       "  <tbody>\n",
       "    <tr>\n",
       "      <th>0</th>\n",
       "      <td>0.0</td>\n",
       "      <td>1.0</td>\n",
       "      <td>1.0</td>\n",
       "      <td>0.0</td>\n",
       "      <td>0.0</td>\n",
       "      <td>0.0</td>\n",
       "      <td>1.0</td>\n",
       "      <td>1.0</td>\n",
       "      <td>0.0</td>\n",
       "      <td>0.0</td>\n",
       "      <td>3.0</td>\n",
       "      <td>580.0</td>\n",
       "      <td>0.0</td>\n",
       "    </tr>\n",
       "    <tr>\n",
       "      <th>1</th>\n",
       "      <td>1.0</td>\n",
       "      <td>0.0</td>\n",
       "      <td>0.0</td>\n",
       "      <td>1.0</td>\n",
       "      <td>0.0</td>\n",
       "      <td>1.0</td>\n",
       "      <td>0.0</td>\n",
       "      <td>1.0</td>\n",
       "      <td>0.0</td>\n",
       "      <td>0.0</td>\n",
       "      <td>2.0</td>\n",
       "      <td>693.0</td>\n",
       "      <td>0.0</td>\n",
       "    </tr>\n",
       "    <tr>\n",
       "      <th>2</th>\n",
       "      <td>1.0</td>\n",
       "      <td>0.0</td>\n",
       "      <td>0.0</td>\n",
       "      <td>1.0</td>\n",
       "      <td>0.0</td>\n",
       "      <td>1.0</td>\n",
       "      <td>0.0</td>\n",
       "      <td>0.0</td>\n",
       "      <td>0.0</td>\n",
       "      <td>1.0</td>\n",
       "      <td>2.0</td>\n",
       "      <td>768.0</td>\n",
       "      <td>1.0</td>\n",
       "    </tr>\n",
       "    <tr>\n",
       "      <th>3</th>\n",
       "      <td>0.0</td>\n",
       "      <td>1.0</td>\n",
       "      <td>1.0</td>\n",
       "      <td>0.0</td>\n",
       "      <td>1.0</td>\n",
       "      <td>0.0</td>\n",
       "      <td>0.0</td>\n",
       "      <td>1.0</td>\n",
       "      <td>0.0</td>\n",
       "      <td>0.0</td>\n",
       "      <td>5.0</td>\n",
       "      <td>1362.0</td>\n",
       "      <td>0.0</td>\n",
       "    </tr>\n",
       "    <tr>\n",
       "      <th>4</th>\n",
       "      <td>1.0</td>\n",
       "      <td>0.0</td>\n",
       "      <td>1.0</td>\n",
       "      <td>0.0</td>\n",
       "      <td>0.0</td>\n",
       "      <td>1.0</td>\n",
       "      <td>0.0</td>\n",
       "      <td>0.0</td>\n",
       "      <td>0.0</td>\n",
       "      <td>1.0</td>\n",
       "      <td>2.0</td>\n",
       "      <td>10.0</td>\n",
       "      <td>0.0</td>\n",
       "    </tr>\n",
       "  </tbody>\n",
       "</table>\n",
       "</div>"
      ],
      "text/plain": [
       "   chemo_NonTreated  chemo_Treated  sex_Female  sex_Male  dukes_A-B  dukes_C  \\\n",
       "0               0.0            1.0         1.0       0.0        0.0      0.0   \n",
       "1               1.0            0.0         0.0       1.0        0.0      1.0   \n",
       "2               1.0            0.0         0.0       1.0        0.0      1.0   \n",
       "3               0.0            1.0         1.0       0.0        1.0      0.0   \n",
       "4               1.0            0.0         1.0       0.0        0.0      1.0   \n",
       "\n",
       "   dukes_D  charlson_0  charlson_1-2  charlson_3  enum    time  death  \n",
       "0      1.0         1.0           0.0         0.0   3.0   580.0    0.0  \n",
       "1      0.0         1.0           0.0         0.0   2.0   693.0    0.0  \n",
       "2      0.0         0.0           0.0         1.0   2.0   768.0    1.0  \n",
       "3      0.0         1.0           0.0         0.0   5.0  1362.0    0.0  \n",
       "4      0.0         0.0           0.0         1.0   2.0    10.0    0.0  "
      ]
     },
     "execution_count": 8,
     "metadata": {},
     "output_type": "execute_result"
    }
   ],
   "source": [
    "pipeline = create_pipeline(rea_final)\n",
    "\n",
    "# Apply the pipeline to the DataFrame\n",
    "df_rea_processed = apply_pipeline(pipeline, rea_final)\n",
    "\n",
    "df_rea_processed.head()"
   ]
  },
  {
   "cell_type": "markdown",
   "metadata": {},
   "source": [
    "### **Get training/test dataset**"
   ]
  },
  {
   "cell_type": "code",
   "execution_count": 9,
   "metadata": {},
   "outputs": [],
   "source": [
    "X,y = get_x_y(df_rea_processed,attr_labels=['death','time'],pos_label=1,survival=True)\n",
    "X_train, X_test, y_train, y_test = train_test_split(X, y, test_size=0.2, random_state=42)"
   ]
  },
  {
   "cell_type": "code",
   "execution_count": 7,
   "metadata": {},
   "outputs": [
    {
     "data": {
      "text/html": [
       "<div>\n",
       "<style scoped>\n",
       "    .dataframe tbody tr th:only-of-type {\n",
       "        vertical-align: middle;\n",
       "    }\n",
       "\n",
       "    .dataframe tbody tr th {\n",
       "        vertical-align: top;\n",
       "    }\n",
       "\n",
       "    .dataframe thead th {\n",
       "        text-align: right;\n",
       "    }\n",
       "</style>\n",
       "<table border=\"1\" class=\"dataframe\">\n",
       "  <thead>\n",
       "    <tr style=\"text-align: right;\">\n",
       "      <th></th>\n",
       "      <th>chemo_NonTreated</th>\n",
       "      <th>chemo_Treated</th>\n",
       "      <th>sex_Female</th>\n",
       "      <th>sex_Male</th>\n",
       "      <th>dukes_A-B</th>\n",
       "      <th>dukes_C</th>\n",
       "      <th>dukes_D</th>\n",
       "      <th>charlson_0</th>\n",
       "      <th>charlson_1-2</th>\n",
       "      <th>charlson_3</th>\n",
       "      <th>enum</th>\n",
       "    </tr>\n",
       "  </thead>\n",
       "  <tbody>\n",
       "    <tr>\n",
       "      <th>71</th>\n",
       "      <td>0.0</td>\n",
       "      <td>1.0</td>\n",
       "      <td>1.0</td>\n",
       "      <td>0.0</td>\n",
       "      <td>0.0</td>\n",
       "      <td>0.0</td>\n",
       "      <td>1.0</td>\n",
       "      <td>0.0</td>\n",
       "      <td>0.0</td>\n",
       "      <td>1.0</td>\n",
       "      <td>1.0</td>\n",
       "    </tr>\n",
       "    <tr>\n",
       "      <th>106</th>\n",
       "      <td>0.0</td>\n",
       "      <td>1.0</td>\n",
       "      <td>1.0</td>\n",
       "      <td>0.0</td>\n",
       "      <td>0.0</td>\n",
       "      <td>0.0</td>\n",
       "      <td>1.0</td>\n",
       "      <td>1.0</td>\n",
       "      <td>0.0</td>\n",
       "      <td>0.0</td>\n",
       "      <td>1.0</td>\n",
       "    </tr>\n",
       "    <tr>\n",
       "      <th>270</th>\n",
       "      <td>0.0</td>\n",
       "      <td>1.0</td>\n",
       "      <td>0.0</td>\n",
       "      <td>1.0</td>\n",
       "      <td>0.0</td>\n",
       "      <td>1.0</td>\n",
       "      <td>0.0</td>\n",
       "      <td>0.0</td>\n",
       "      <td>0.0</td>\n",
       "      <td>1.0</td>\n",
       "      <td>1.0</td>\n",
       "    </tr>\n",
       "    <tr>\n",
       "      <th>348</th>\n",
       "      <td>1.0</td>\n",
       "      <td>0.0</td>\n",
       "      <td>0.0</td>\n",
       "      <td>1.0</td>\n",
       "      <td>0.0</td>\n",
       "      <td>1.0</td>\n",
       "      <td>0.0</td>\n",
       "      <td>1.0</td>\n",
       "      <td>0.0</td>\n",
       "      <td>0.0</td>\n",
       "      <td>2.0</td>\n",
       "    </tr>\n",
       "    <tr>\n",
       "      <th>102</th>\n",
       "      <td>1.0</td>\n",
       "      <td>0.0</td>\n",
       "      <td>1.0</td>\n",
       "      <td>0.0</td>\n",
       "      <td>1.0</td>\n",
       "      <td>0.0</td>\n",
       "      <td>0.0</td>\n",
       "      <td>1.0</td>\n",
       "      <td>0.0</td>\n",
       "      <td>0.0</td>\n",
       "      <td>2.0</td>\n",
       "    </tr>\n",
       "  </tbody>\n",
       "</table>\n",
       "</div>"
      ],
      "text/plain": [
       "     chemo_NonTreated  chemo_Treated  sex_Female  sex_Male  dukes_A-B  \\\n",
       "71                0.0            1.0         1.0       0.0        0.0   \n",
       "106               0.0            1.0         1.0       0.0        0.0   \n",
       "270               0.0            1.0         0.0       1.0        0.0   \n",
       "348               1.0            0.0         0.0       1.0        0.0   \n",
       "102               1.0            0.0         1.0       0.0        1.0   \n",
       "\n",
       "     dukes_C  dukes_D  charlson_0  charlson_1-2  charlson_3  enum  \n",
       "71       0.0      1.0         0.0           0.0         1.0   1.0  \n",
       "106      0.0      1.0         1.0           0.0         0.0   1.0  \n",
       "270      1.0      0.0         0.0           0.0         1.0   1.0  \n",
       "348      1.0      0.0         1.0           0.0         0.0   2.0  \n",
       "102      0.0      0.0         1.0           0.0         0.0   2.0  "
      ]
     },
     "execution_count": 7,
     "metadata": {},
     "output_type": "execute_result"
    }
   ],
   "source": [
    "X_train.tail()"
   ]
  },
  {
   "cell_type": "markdown",
   "metadata": {},
   "source": [
    "## **Model Construction**"
   ]
  },
  {
   "cell_type": "markdown",
   "metadata": {},
   "source": [
    "### **Build the model**"
   ]
  },
  {
   "cell_type": "code",
   "execution_count": 10,
   "metadata": {},
   "outputs": [
    {
     "name": "stdout",
     "output_type": "stream",
     "text": [
      "Best hyperparameters with optuna : {'learning_rate': 0.002647762452588323, 'n_estimators': 265, 'max_depth': 3, 'subsample': 0.5998682830356308, 'min_samples_split': 10, 'min_samples_leaf': 13}\n"
     ]
    },
    {
     "name": "stderr",
     "output_type": "stream",
     "text": [
      "Progress of GridSearchCV: 100%|██████████| 216/216 [06:53<00:00,  1.92s/it]\n"
     ]
    },
    {
     "name": "stdout",
     "output_type": "stream",
     "text": [
      "Best hyperparameters with optuna - GridSearch : \u001b[34m{'learning_rate': 0.0023829862073294905, 'n_estimators': 238, 'max_depth': 2, 'subsample': 0.5398814547320677, 'min_samples_split': 9, 'min_samples_leaf': 11, 'random_state': 42}\u001b[0m \n",
      "with a score: \u001b[34m0.8520815216011277\u001b[0m; and the scorer: \u001b[34mconcordance_censored\u001b[0m\n"
     ]
    }
   ],
   "source": [
    "model = Model(GradientBoostingSurvivalAnalysis())                           # Choose your model between FastKernelSurvivalSVM(), GradientBoostingSurvivalAnalysis(), RandomSurvivalForest()\n",
    "model.scorer = 'concordance_censored'                          # others scorer possible : 'concordance_censored', 'concordance_index_ipcw', 'ibs', 'cumulative_dynamic_auc'\n",
    "model.optimize(X_train, y_train, n_trials = 3 ,num_samples=3)   # n_trials corresponds to n_trials of optuna optimization\n",
    "model.fit(X_train, y_train)                                      # num_samples corresponds to the number of each hyperparameters values for GridSearch optimization"
   ]
  },
  {
   "cell_type": "markdown",
   "metadata": {},
   "source": [
    "### **Describe the model**"
   ]
  },
  {
   "cell_type": "markdown",
   "metadata": {},
   "source": [
    "We have differents attributs/methods helping us to describe the model"
   ]
  },
  {
   "cell_type": "code",
   "execution_count": 38,
   "metadata": {},
   "outputs": [
    {
     "data": {
      "text/plain": [
       "{'learning_rate': 0.021691703766423237,\n",
       " 'n_estimators': 252,\n",
       " 'max_depth': 6,\n",
       " 'subsample': 0.603959440306084,\n",
       " 'min_samples_split': 4,\n",
       " 'min_samples_leaf': 12,\n",
       " 'random_state': 42}"
      ]
     },
     "execution_count": 38,
     "metadata": {},
     "output_type": "execute_result"
    }
   ],
   "source": [
    "# Get hyperparameters parameters\n",
    "model.get_params()"
   ]
  },
  {
   "cell_type": "code",
   "execution_count": 39,
   "metadata": {},
   "outputs": [
    {
     "name": "stdout",
     "output_type": "stream",
     "text": [
      "the model score for the random_state 0 is {'concordance_censored': 0.8838514680483592}\n",
      "the model score for the random_state 1 is {'concordance_censored': 0.8812607944732297}\n",
      "the model score for the random_state 2 is {'concordance_censored': 0.8829879101899827}\n",
      "the model score for the random_state 3 is {'concordance_censored': 0.8769430051813472}\n",
      "the model score for the random_state 4 is {'concordance_censored': 0.8752158894645942}\n"
     ]
    }
   ],
   "source": [
    "# Get/input random_state of the model\n",
    "model.random_state\n",
    "\n",
    "# Define random_state before training/optimize the model\n",
    "for i in range(5):\n",
    "    model.random_state = i\n",
    "    model.fit(X_train,y_train)\n",
    "    print(f'the model score for the random_state {model.random_state} is {model.score(X_test, y_test, y_train)}')"
   ]
  },
  {
   "cell_type": "code",
   "execution_count": 40,
   "metadata": {},
   "outputs": [],
   "source": [
    "model.random_state = 42     # or model.params['random_state'] = 42"
   ]
  },
  {
   "cell_type": "code",
   "execution_count": 41,
   "metadata": {},
   "outputs": [],
   "source": [
    "# We can have the survival prediction of the model for a dataset\n",
    "y_pred = model.predict(X_test)"
   ]
  },
  {
   "cell_type": "markdown",
   "metadata": {},
   "source": [
    "### **Evaluate the model**"
   ]
  },
  {
   "cell_type": "markdown",
   "metadata": {},
   "source": [
    "We can evaluate our model using different metrics, but we can also define the metric to be used to optimise the model. The different survival scores are : 'concordance_censored', 'concordance_index_ipcw', 'ibs', 'cumulative_dynamic_auc'."
   ]
  },
  {
   "cell_type": "code",
   "execution_count": 42,
   "metadata": {},
   "outputs": [
    {
     "data": {
      "text/plain": [
       "{'concordance_censored': 0.8752158894645942}"
      ]
     },
     "execution_count": 42,
     "metadata": {},
     "output_type": "execute_result"
    }
   ],
   "source": [
    "# Evaluate the model with the default scorer\n",
    "model.score(X_test, y_test, y_train)"
   ]
  },
  {
   "cell_type": "code",
   "execution_count": 43,
   "metadata": {},
   "outputs": [
    {
     "data": {
      "text/plain": [
       "{'concordance_censored': 0.8752158894645942,\n",
       " 'concordance_index_ipcw': 0.8606140225868277,\n",
       " 'cumulative_dynamic_auc': 0.9148973719684065,\n",
       " 'ibs': -0.11432643108889937}"
      ]
     },
     "execution_count": 43,
     "metadata": {},
     "output_type": "execute_result"
    }
   ],
   "source": [
    "model.score(X_test, y_test, y_train, metrics = ['concordance_censored', 'concordance_index_ipcw', 'cumulative_dynamic_auc', 'ibs'])"
   ]
  },
  {
   "cell_type": "code",
   "execution_count": 11,
   "metadata": {},
   "outputs": [
    {
     "data": {
      "text/plain": [
       "{'cumulative_dynamic_auc': 0.917476059659242}"
      ]
     },
     "execution_count": 11,
     "metadata": {},
     "output_type": "execute_result"
    }
   ],
   "source": [
    "# Change of the scorer for optimization :\n",
    "model.scorer = 'cumulative_dynamic_auc'\n",
    "\n",
    "model.score(X_test, y_test, y_train)"
   ]
  },
  {
   "cell_type": "markdown",
   "metadata": {},
   "source": [
    "## **Interpretability methods**"
   ]
  },
  {
   "cell_type": "markdown",
   "metadata": {},
   "source": [
    "3 methods are implemented to interprete our model : Permutation importance, Shap and LIME. All this methods can be find in get_interpretability_methods but this method isn't worth if you want to have only one or two methods of interpretability."
   ]
  },
  {
   "cell_type": "code",
   "execution_count": 59,
   "metadata": {},
   "outputs": [],
   "source": [
    "# model.get_interpretability_methods(X_train, X_test, y_train, y_test, feature = 'enum', index = 10, plot = True)"
   ]
  },
  {
   "cell_type": "markdown",
   "metadata": {},
   "source": [
    "### **Permutation Importance**"
   ]
  },
  {
   "cell_type": "markdown",
   "metadata": {},
   "source": [
    "Displays of variable's importance"
   ]
  },
  {
   "cell_type": "code",
   "execution_count": 45,
   "metadata": {},
   "outputs": [
    {
     "data": {
      "image/png": "[encoded data removed]",
      "text/plain": [
       "<Figure size 1000x600 with 1 Axes>"
      ]
     },
     "metadata": {},
     "output_type": "display_data"
    },
    {
     "data": {
      "text/plain": [
       "{'charlson_1-2': 5.4717741010119863e-14,\n",
       " 'sex_Female': 0.3501906149022906,\n",
       " 'sex_Male': 0.5617110874288065,\n",
       " 'dukes_C': 1.2310851885201748,\n",
       " 'chemo_NonTreated': 1.610803679829826,\n",
       " 'chemo_Treated': 2.7258155599215574,\n",
       " 'charlson_0': 2.901853390804541,\n",
       " 'dukes_A-B': 3.195277597943444,\n",
       " 'charlson_3': 15.528995157717032,\n",
       " 'dukes_D': 35.498329525808394,\n",
       " 'enum': 36.395938197123876}"
      ]
     },
     "execution_count": 45,
     "metadata": {},
     "output_type": "execute_result"
    }
   ],
   "source": [
    "model.get_pi_values(X_test, y_test, y_train, plot = True)   # Plot = True displays the variable importance. plot = False per default"
   ]
  },
  {
   "cell_type": "markdown",
   "metadata": {},
   "source": [
    "### **SHAP**"
   ]
  },
  {
   "cell_type": "markdown",
   "metadata": {},
   "source": [
    "For Shap, you can specify whether you want the summary plot with the option (plot=True), but you can also plot the graph representing SHAP values as a function of the values of a specified feature (feature=...)."
   ]
  },
  {
   "cell_type": "code",
   "execution_count": 46,
   "metadata": {},
   "outputs": [
    {
     "data": {
      "image/png": "[encoded data removed]",
      "text/plain": [
       "<Figure size 800x590 with 2 Axes>"
      ]
     },
     "metadata": {},
     "output_type": "display_data"
    },
    {
     "data": {
      "image/png": "[encoded data removed]",
      "text/plain": [
       "<Figure size 750x500 with 2 Axes>"
      ]
     },
     "metadata": {},
     "output_type": "display_data"
    },
    {
     "data": {
      "text/plain": [
       "array([[ 5.09428157e-02,  5.49668449e-02, -1.76423300e-03,\n",
       "        -4.29169943e-03,  9.40346691e-02, -3.84638348e-02,\n",
       "         8.93048793e-01,  3.17748037e-01,  0.00000000e+00,\n",
       "         6.27202998e-01,  3.13850109e-01],\n",
       "       [-7.38595050e-02, -7.13093641e-02,  6.44222701e-02,\n",
       "         5.82113056e-02,  1.05745697e-01,  6.15119088e-02,\n",
       "        -1.30530146e-01, -9.88574130e-02,  0.00000000e+00,\n",
       "        -1.71408434e-01,  2.71840337e-01],\n",
       "       [-1.01734953e-01, -9.72316736e-02, -4.25538424e-02,\n",
       "        -4.94477736e-02,  6.87557841e-02,  1.12129019e-02,\n",
       "        -2.01503719e-01, -5.88693597e-02,  0.00000000e+00,\n",
       "        -1.31769529e-01, -3.43275284e-01],\n",
       "       [ 9.69018812e-02,  6.60077881e-02,  8.80592487e-03,\n",
       "         2.44270365e-02,  1.71927980e-01, -3.62485550e-02,\n",
       "         1.29181557e+00, -7.63341495e-02,  0.00000000e+00,\n",
       "        -1.22117522e-01, -2.43929915e-04],\n",
       "       [ 9.79315347e-02,  9.19696655e-02,  4.08328448e-02,\n",
       "         3.91541244e-02,  1.79346417e-01,  1.12030351e-01,\n",
       "        -1.18295253e-01,  3.20094073e-01,  0.00000000e+00,\n",
       "        -1.53454260e-01,  3.54335680e-01],\n",
       "       [-1.22093428e-02, -1.41672622e-02,  4.70592182e-02,\n",
       "         4.08603285e-02, -5.77814972e-02, -1.75397921e-02,\n",
       "        -1.13435275e-01, -8.28522623e-02,  0.00000000e+00,\n",
       "        -1.51899838e-01,  8.73089030e-01],\n",
       "       [ 4.00745217e-02,  4.41905644e-02, -2.29209753e-02,\n",
       "        -2.45542144e-02, -7.74356453e-02, -3.61055177e-02,\n",
       "        -1.25597728e-01,  3.26575731e-01,  0.00000000e+00,\n",
       "         8.02186714e-01,  7.56887197e-01],\n",
       "       [-2.51250226e-02, -4.02592336e-02, -3.06254305e-02,\n",
       "        -3.31239803e-02,  6.62999131e-02,  4.35448539e-02,\n",
       "        -1.11198662e-01,  3.18749410e-01,  0.00000000e+00,\n",
       "         7.80650433e-01,  9.28827174e-01],\n",
       "       [ 3.60395686e-02,  4.31073699e-02,  3.40398931e-02,\n",
       "         3.32695623e-02, -1.53125464e-01, -6.30124456e-02,\n",
       "        -1.41218574e-01,  3.30162945e-01,  0.00000000e+00,\n",
       "        -1.72182115e-01,  3.17746873e-01],\n",
       "       [-2.87477195e-02, -2.60869892e-02, -5.25461174e-03,\n",
       "        -9.20211783e-03,  6.48858027e-02, -1.41788667e-02,\n",
       "         7.73031231e-01,  2.63952740e-01,  0.00000000e+00,\n",
       "         6.06442942e-01,  6.27296362e-01],\n",
       "       [-6.91668107e-02, -5.44929435e-02,  2.70685193e-02,\n",
       "         3.56731154e-02,  6.72775882e-02, -6.26493586e-03,\n",
       "         1.36320037e+00,  1.95299434e-01,  0.00000000e+00,\n",
       "         4.82156729e-01, -4.11950534e-01],\n",
       "       [ 5.15366895e-02,  5.01705191e-02, -4.65204649e-02,\n",
       "        -4.10579458e-02, -1.80958629e-01, -6.78351735e-02,\n",
       "        -1.87739001e-01, -8.44159498e-02,  0.00000000e+00,\n",
       "        -1.70670516e-01, -5.49849014e-02],\n",
       "       [-5.98447999e-02, -7.65490919e-02, -4.98030709e-02,\n",
       "        -5.20870199e-02,  7.62852847e-02,  6.61795220e-02,\n",
       "        -1.48852895e-01,  2.84965990e-01,  0.00000000e+00,\n",
       "         8.25355895e-01,  1.33279031e-01],\n",
       "       [ 5.51392022e-02,  5.67037158e-02, -2.72437530e-02,\n",
       "        -2.58216962e-02, -1.32351661e-01, -3.41301242e-02,\n",
       "        -2.00663945e-01, -5.98352432e-02,  0.00000000e+00,\n",
       "        -1.25896066e-01, -2.71988855e-01],\n",
       "       [ 1.01628994e-01,  9.98226996e-02,  4.96872069e-02,\n",
       "         3.91567994e-02,  1.83875353e-01,  1.15850411e-01,\n",
       "        -1.24667677e-01, -9.48508934e-02,  0.00000000e+00,\n",
       "        -1.49851305e-01,  2.37292466e-01],\n",
       "       [-8.81423427e-02, -8.02040630e-02, -2.53272823e-02,\n",
       "        -2.58114152e-02,  6.69048339e-02,  3.80656044e-02,\n",
       "        -1.86977186e-01,  1.84969656e-01,  0.00000000e+00,\n",
       "         6.23022598e-01, -6.09055050e-01],\n",
       "       [-9.36701715e-02, -9.03656452e-02,  3.17486064e-02,\n",
       "         3.31186552e-02,  8.37895986e-02,  2.69678437e-02,\n",
       "        -1.74802537e-01, -4.93739537e-02,  0.00000000e+00,\n",
       "        -1.18334078e-01, -4.30491478e-01],\n",
       "       [ 5.45469384e-02,  5.69191840e-02,  2.05806212e-02,\n",
       "         1.84121155e-02, -1.39203777e-01, -4.55185200e-02,\n",
       "        -1.76626381e-01, -5.11443281e-02,  0.00000000e+00,\n",
       "        -1.19556724e-01, -3.28768727e-01],\n",
       "       [ 5.52634497e-02,  5.47489975e-02, -4.59643510e-02,\n",
       "        -4.19771890e-02, -1.83650797e-01, -6.93940979e-02,\n",
       "        -1.86444421e-01, -8.40781409e-02,  0.00000000e+00,\n",
       "        -1.64715799e-01, -6.62630252e-02],\n",
       "       [ 5.56486333e-02,  5.39067497e-02, -2.00433841e-02,\n",
       "        -1.94316060e-02, -1.21542836e-01, -3.31366326e-02,\n",
       "        -2.05340380e-01,  1.86522411e-01,  0.00000000e+00,\n",
       "        -1.27271073e-01, -3.67587187e-01],\n",
       "       [ 5.41200462e-02,  5.64817216e-02,  1.97136196e-02,\n",
       "         1.87076257e-02, -1.42234608e-01, -4.47410475e-02,\n",
       "        -1.83696012e-01, -5.31442062e-02,  0.00000000e+00,\n",
       "        -1.18308003e-01, -3.17258734e-01],\n",
       "       [-3.95999956e-02, -2.85003291e-02,  2.15666255e-02,\n",
       "         2.86928948e-02,  4.56333001e-02, -1.41049488e-02,\n",
       "         9.12412077e-01,  3.01376718e-01,  0.00000000e+00,\n",
       "         6.59133130e-01,  6.24894083e-01],\n",
       "       [-1.02988256e-01, -8.96968580e-02, -4.46392974e-02,\n",
       "        -5.05960832e-02,  6.69663205e-02,  1.11539039e-02,\n",
       "        -2.06290309e-01, -5.89716411e-02,  0.00000000e+00,\n",
       "        -1.27962805e-01, -3.43392424e-01],\n",
       "       [-5.78587309e-02, -4.22545909e-02,  5.57841293e-02,\n",
       "         4.73087610e-02,  6.90132377e-02,  4.28926488e-02,\n",
       "        -1.05187833e-01, -8.64707706e-02,  0.00000000e+00,\n",
       "        -1.48940001e-01,  8.49142170e-01],\n",
       "       [-6.18459708e-02, -7.49434778e-02, -1.72943531e-02,\n",
       "        -2.34166368e-02,  5.02882698e-02,  2.95848330e-02,\n",
       "        -1.85416739e-01,  1.85933601e-01,  0.00000000e+00,\n",
       "         6.07853986e-01, -6.13298158e-01],\n",
       "       [-5.37690014e-02, -6.39566949e-02,  3.26280385e-02,\n",
       "         3.59893995e-02,  9.43259013e-02,  8.01035648e-02,\n",
       "        -1.21636261e-01,  2.48148088e-01,  0.00000000e+00,\n",
       "         7.38765333e-01,  1.78029770e-01],\n",
       "       [ 5.44614998e-02,  5.83171421e-02,  2.11746497e-02,\n",
       "         2.07816070e-02, -1.46400875e-01, -4.33641444e-02,\n",
       "        -1.80904559e-01, -5.14318551e-02,  0.00000000e+00,\n",
       "        -1.20873365e-01, -3.22119697e-01],\n",
       "       [ 5.87114105e-02,  5.89749535e-02, -2.77107077e-02,\n",
       "        -2.53935206e-02, -1.33009051e-01, -3.44806893e-02,\n",
       "        -2.10183000e-01, -5.37379937e-02,  0.00000000e+00,\n",
       "        -1.26581814e-01, -2.72678014e-01],\n",
       "       [ 5.97386165e-02,  5.91010235e-02, -2.87943166e-02,\n",
       "        -2.63578317e-02, -1.35224993e-01, -3.41700307e-02,\n",
       "        -2.01457105e-01, -5.69054718e-02,  0.00000000e+00,\n",
       "        -1.21859413e-01, -2.80158904e-01],\n",
       "       [-8.59213989e-05, -7.31838368e-03,  4.70279425e-02,\n",
       "         4.86253854e-02, -9.05817571e-02, -3.43930611e-02,\n",
       "        -1.56367356e-01, -7.23030014e-02,  0.00000000e+00,\n",
       "        -1.58569574e-01,  5.22100879e-03],\n",
       "       [-4.39860599e-02, -3.79039990e-02,  2.97081862e-02,\n",
       "         2.87575585e-02,  7.50184189e-02,  4.99614996e-02,\n",
       "        -9.12976760e-02,  3.04334594e-01,  0.00000000e+00,\n",
       "         7.59085494e-01,  8.01540123e-01],\n",
       "       [ 4.68226877e-02,  4.77177391e-02,  3.04612553e-02,\n",
       "         2.77345061e-02, -1.76857778e-01, -7.98659193e-02,\n",
       "        -1.58358837e-01,  2.66358994e-01,  0.00000000e+00,\n",
       "        -1.65788034e-01, -7.11955006e-03],\n",
       "       [ 7.89175737e-02,  6.45196681e-02,  1.09613637e-02,\n",
       "         2.54313224e-02,  1.48501993e-01, -2.32493205e-02,\n",
       "         1.23390007e+00, -9.15545930e-02,  0.00000000e+00,\n",
       "        -1.33429876e-01,  1.20455568e-01],\n",
       "       [ 1.47195171e-01,  1.31093805e-01, -6.21404309e-02,\n",
       "        -5.56109342e-02,  2.07790617e-01,  1.22446009e-01,\n",
       "        -1.64321571e-01, -7.81572156e-02,  0.00000000e+00,\n",
       "        -1.45060529e-01,  6.36079151e-02],\n",
       "       [-5.68902814e-02, -6.68107729e-02,  3.24494855e-02,\n",
       "         3.79824888e-02,  1.03318973e-01,  7.15880022e-02,\n",
       "        -1.22727340e-01,  2.53209041e-01,  0.00000000e+00,\n",
       "         7.43784713e-01,  1.72723828e-01],\n",
       "       [ 1.26439189e-01,  1.19272845e-01,  2.62165264e-02,\n",
       "         3.08618780e-02,  1.67428122e-01,  7.99708419e-02,\n",
       "        -1.56891029e-01, -4.98948431e-02,  0.00000000e+00,\n",
       "        -1.03067601e-01, -3.76893343e-01],\n",
       "       [-1.06387028e-01, -9.04405580e-02, -8.61488316e-02,\n",
       "        -8.88845443e-02,  1.08244800e-01,  3.74409676e-02,\n",
       "        -1.85072617e-01, -8.63913807e-02,  0.00000000e+00,\n",
       "        -1.74330780e-01,  3.16078393e-02],\n",
       "       [ 1.36973847e-01,  1.27529311e-01, -3.47113273e-02,\n",
       "        -4.09890211e-02,  1.59027332e-01,  6.76238121e-02,\n",
       "        -1.88234314e-01, -5.05459763e-02,  0.00000000e+00,\n",
       "        -1.10160812e-01, -3.38515756e-01],\n",
       "       [ 1.15333481e-01,  1.01473674e-01,  4.29899340e-02,\n",
       "         4.14427198e-02,  2.13509700e-01,  1.42064925e-01,\n",
       "        -1.24344958e-01, -7.41884324e-02,  0.00000000e+00,\n",
       "        -1.36311192e-01,  9.01578663e-02],\n",
       "       [-9.39820714e-02, -8.93473034e-02,  3.15950336e-02,\n",
       "         3.35672354e-02,  8.19185522e-02,  2.82183513e-02,\n",
       "        -1.75228985e-01, -4.87799215e-02,  0.00000000e+00,\n",
       "        -1.18046015e-01, -4.31328037e-01],\n",
       "       [-1.02307069e-01, -9.37501946e-02, -4.24948981e-02,\n",
       "        -4.44754861e-02,  6.58587782e-02,  1.11605229e-02,\n",
       "        -1.99953113e-01, -5.94300828e-02,  0.00000000e+00,\n",
       "        -1.26781583e-01, -3.54244325e-01],\n",
       "       [-1.07266809e-01, -9.88958942e-02, -9.03926135e-02,\n",
       "        -8.28212861e-02,  1.10617405e-01,  3.64295246e-02,\n",
       "        -1.75304844e-01, -8.65183537e-02,  0.00000000e+00,\n",
       "        -1.69194342e-01,  2.29850792e-02],\n",
       "       [ 4.83776217e-02,  4.66524577e-02, -4.98902997e-02,\n",
       "        -4.73780637e-02, -1.20309192e-01, -3.60754404e-02,\n",
       "        -1.53139009e-01, -9.61811878e-02,  0.00000000e+00,\n",
       "        -1.70701574e-01,  5.89422480e-01],\n",
       "       [-7.16821684e-02, -7.36428939e-02,  6.66668922e-02,\n",
       "         6.06686263e-02,  1.05930168e-01,  6.08198946e-02,\n",
       "        -1.31338044e-01, -9.89451510e-02,  0.00000000e+00,\n",
       "        -1.72903042e-01,  2.70192375e-01],\n",
       "       [ 3.84328639e-02,  3.81899185e-02,  4.05956878e-02,\n",
       "         3.61760536e-02, -1.56214786e-01, -6.74668520e-02,\n",
       "        -1.46571004e-01, -9.87009038e-02,  0.00000000e+00,\n",
       "        -1.73056082e-01,  2.02507711e-01],\n",
       "       [-9.50689140e-02, -9.04773343e-02,  3.26157329e-02,\n",
       "         3.43839075e-02,  8.40867662e-02,  2.80684024e-02,\n",
       "        -1.74145911e-01, -5.20619499e-02,  0.00000000e+00,\n",
       "        -1.18875927e-01, -4.29937933e-01],\n",
       "       [ 7.98747396e-02,  4.59286873e-02, -8.26236531e-04,\n",
       "        -8.18049288e-03,  1.64208934e-01, -3.40873758e-02,\n",
       "         1.10786326e+00, -7.67800527e-02,  0.00000000e+00,\n",
       "        -1.16476282e-01,  1.84418962e-02],\n",
       "       [ 5.63887469e-02,  5.48154939e-02,  2.29025913e-02,\n",
       "         2.20981684e-02, -1.40034316e-01, -4.57681620e-02,\n",
       "        -1.81889608e-01, -5.18280443e-02,  0.00000000e+00,\n",
       "        -1.24343775e-01, -3.22700693e-01],\n",
       "       [ 9.50521404e-02,  7.82251013e-02, -5.90201307e-02,\n",
       "        -5.11382745e-02,  1.22612513e-01,  5.79776990e-02,\n",
       "        -1.29976083e-01, -8.94951384e-02,  0.00000000e+00,\n",
       "        -1.48865266e-01,  6.77017778e-01],\n",
       "       [-9.48779054e-02, -8.84341121e-02,  3.17457768e-02,\n",
       "         3.32261084e-02,  8.24203089e-02,  2.65087878e-02,\n",
       "        -1.77020636e-01, -4.89901326e-02,  0.00000000e+00,\n",
       "        -1.17967429e-01, -4.28023927e-01],\n",
       "       [-1.05663770e-01, -9.17977154e-02, -9.20564563e-02,\n",
       "        -8.73009889e-02,  1.11297200e-01,  3.60899532e-02,\n",
       "        -1.82494538e-01, -8.66368763e-02,  0.00000000e+00,\n",
       "        -1.71228811e-01,  2.94298695e-02],\n",
       "       [ 5.09115973e-02,  5.72949716e-02, -6.71736292e-03,\n",
       "        -1.21407498e-02,  1.06319198e-01, -3.17528929e-02,\n",
       "         9.82074986e-01,  2.48806288e-01,  0.00000000e+00,\n",
       "         5.87566399e-01,  1.00916995e-01],\n",
       "       [-5.06959464e-02, -3.48510214e-02,  7.50916493e-03,\n",
       "         2.19917659e-03,  9.64226559e-02, -1.36980616e-02,\n",
       "         1.13907345e+00, -7.07964916e-02,  0.00000000e+00,\n",
       "        -1.25179747e-01,  3.58480882e-02],\n",
       "       [-2.79051091e-02, -3.13253132e-02,  2.21308429e-02,\n",
       "         2.13492492e-02, -5.35086494e-02, -8.77728953e-03,\n",
       "        -1.81123876e-01, -5.11129648e-02,  0.00000000e+00,\n",
       "        -1.22312925e-01, -3.71211505e-01],\n",
       "       [-5.64476508e-02, -4.06165637e-02,  1.93202323e-03,\n",
       "         1.69080372e-02,  8.99605316e-02,  3.02764701e-03,\n",
       "         1.36526912e+00, -7.43798226e-02,  0.00000000e+00,\n",
       "        -1.31550837e-01, -2.29065607e-03],\n",
       "       [ 5.30116353e-02,  5.24831229e-02,  2.39677677e-02,\n",
       "         2.08228832e-02, -1.35095296e-01, -4.59373610e-02,\n",
       "        -1.80873241e-01, -5.23819550e-02,  0.00000000e+00,\n",
       "        -1.26063092e-01, -3.20294062e-01],\n",
       "       [-6.67542975e-02, -7.53290386e-02, -2.00731034e-02,\n",
       "        -2.24904509e-02,  6.43836689e-02,  2.77184901e-02,\n",
       "        -1.83644762e-01,  1.87778501e-01,  0.00000000e+00,\n",
       "         5.96096648e-01, -6.10240302e-01],\n",
       "       [ 3.29695647e-02,  3.15350929e-02,  3.50224523e-02,\n",
       "         3.45189594e-02, -1.78839888e-01, -7.86298172e-02,\n",
       "        -1.58797178e-01, -8.07191955e-02,  0.00000000e+00,\n",
       "        -1.64550127e-01, -4.72863484e-02],\n",
       "       [ 7.18247574e-02,  6.33213947e-02,  4.19095725e-02,\n",
       "         3.48217606e-02,  1.19330338e-01,  6.61676862e-02,\n",
       "        -9.97805829e-02, -8.44936157e-02,  0.00000000e+00,\n",
       "        -1.42322145e-01,  7.02103144e-01],\n",
       "       [-2.72232415e-02, -3.02321769e-02,  2.10623940e-02,\n",
       "         1.93300347e-02, -5.65539443e-02, -8.45658076e-03,\n",
       "        -1.85022997e-01, -4.75900045e-02,  0.00000000e+00,\n",
       "        -1.20179936e-01, -3.68931089e-01],\n",
       "       [ 5.41842763e-02,  5.66495430e-02,  2.17807554e-02,\n",
       "         1.93996016e-02, -1.37146123e-01, -4.49861810e-02,\n",
       "        -1.81293227e-01, -5.04853207e-02,  0.00000000e+00,\n",
       "        -1.22292659e-01, -3.26170264e-01],\n",
       "       [-9.36877787e-02, -9.09933382e-02,  3.22495723e-02,\n",
       "         3.31574967e-02,  8.49870733e-02,  2.59093996e-02,\n",
       "        -1.74723331e-01, -4.94601368e-02,  0.00000000e+00,\n",
       "        -1.18382539e-01, -4.30469578e-01],\n",
       "       [ 4.87514050e-02,  5.44416780e-02, -4.58008496e-02,\n",
       "        -4.23360334e-02, -1.49059310e-01, -5.58429256e-02,\n",
       "        -1.69311570e-01,  3.50272482e-01,  0.00000000e+00,\n",
       "        -1.73941396e-01,  2.77881993e-01],\n",
       "       [ 4.62184696e-02,  4.65967957e-02, -8.33526300e-03,\n",
       "        -1.17886654e-02,  8.65369714e-02, -3.03199603e-02,\n",
       "         8.11268177e-01,  2.82624863e-01,  0.00000000e+00,\n",
       "         6.02010121e-01,  4.65027764e-01],\n",
       "       [ 5.90007192e-02,  5.79255559e-02, -2.82122658e-02,\n",
       "        -2.23058589e-02, -1.32997143e-01, -3.48474829e-02,\n",
       "        -2.02426992e-01, -5.97713539e-02,  0.00000000e+00,\n",
       "        -1.24408336e-01, -2.78045268e-01],\n",
       "       [-9.46804189e-02, -9.15637224e-02,  3.24881411e-02,\n",
       "         3.39171791e-02,  8.42156259e-02,  2.72722034e-02,\n",
       "        -1.73111045e-01, -5.16415235e-02,  0.00000000e+00,\n",
       "        -1.18973400e-01, -4.29336200e-01],\n",
       "       [ 5.57998791e-02,  5.61448629e-02,  2.18498415e-02,\n",
       "         1.85085205e-02, -1.39477442e-01, -4.30752486e-02,\n",
       "        -1.76599007e-01, -5.35269714e-02,  0.00000000e+00,\n",
       "        -1.27155918e-01, -3.22828115e-01],\n",
       "       [-2.50295996e-02, -2.94149484e-02,  2.20152137e-02,\n",
       "         1.99739755e-02, -5.45063729e-02, -8.11095018e-03,\n",
       "        -1.82018588e-01, -5.26198015e-02,  0.00000000e+00,\n",
       "        -1.23320307e-01, -3.70766162e-01],\n",
       "       [-5.57178982e-02, -3.91075611e-02,  3.54259956e-03,\n",
       "         1.43134981e-02,  7.29244152e-02,  4.99915184e-03,\n",
       "         1.15712717e+00, -8.57716957e-02,  0.00000000e+00,\n",
       "        -1.39547539e-01,  3.70572348e-01],\n",
       "       [-4.16274766e-02, -2.48295178e-02,  6.78313025e-03,\n",
       "         6.67851740e-04,  7.69696647e-02, -4.73328282e-03,\n",
       "         9.36748484e-01, -8.37254017e-02,  0.00000000e+00,\n",
       "        -1.32448950e-01,  3.76678316e-01],\n",
       "       [-4.55390609e-02, -4.79470289e-02,  2.17272917e-02,\n",
       "         2.90062816e-02,  7.73739364e-02, -1.51390975e-02,\n",
       "         1.17190074e+00,  2.52231190e-01,  0.00000000e+00,\n",
       "         6.50777563e-01,  8.94529165e-02],\n",
       "       [-7.12150813e-02, -7.08185423e-02,  6.38142569e-02,\n",
       "         6.00684664e-02,  1.05678355e-01,  6.25957778e-02,\n",
       "        -1.30799941e-01, -1.00144225e-01,  0.00000000e+00,\n",
       "        -1.71267907e-01,  2.67855498e-01],\n",
       "       [-2.67478813e-02, -3.29380741e-02, -2.47668400e-02,\n",
       "        -2.35673564e-02, -4.44522158e-02,  5.09753392e-03,\n",
       "        -2.05762477e-01, -5.25099934e-02,  0.00000000e+00,\n",
       "        -1.26886477e-01, -2.82429015e-01],\n",
       "       [ 1.27137377e-01,  1.17423406e-01,  2.73067007e-02,\n",
       "         2.95849238e-02,  1.69002809e-01,  8.15997229e-02,\n",
       "        -1.59841392e-01, -4.89212082e-02,  0.00000000e+00,\n",
       "        -1.04996150e-01, -3.74853601e-01],\n",
       "       [ 5.09798158e-02,  5.28050330e-02, -4.91087185e-02,\n",
       "        -4.30517062e-02, -1.84403684e-01, -6.90997097e-02,\n",
       "        -1.88228448e-01, -8.40811541e-02,  0.00000000e+00,\n",
       "        -1.67826467e-01, -5.04603348e-02],\n",
       "       [ 3.66841999e-02,  3.45515236e-02,  3.70511997e-02,\n",
       "         3.46423027e-02, -1.17383536e-01, -4.37235369e-02,\n",
       "        -1.24509420e-01, -9.03090496e-02,  0.00000000e+00,\n",
       "        -1.60455584e-01,  6.17795148e-01],\n",
       "       [ 5.32466467e-02,  5.63055206e-02,  1.91926614e-02,\n",
       "         2.01053827e-02, -1.36334196e-01, -4.36990926e-02,\n",
       "        -1.85743781e-01, -5.24814751e-02,  0.00000000e+00,\n",
       "        -1.22907766e-01, -3.18043498e-01],\n",
       "       [-9.20135910e-03, -1.48986151e-02,  5.17787789e-02,\n",
       "         4.95745063e-02, -8.02876605e-02, -2.97962363e-02,\n",
       "        -1.47166919e-01, -9.58773061e-02,  0.00000000e+00,\n",
       "        -1.73921184e-01,  2.27914264e-01],\n",
       "       [-1.02134813e-01, -9.44509448e-02, -4.52442021e-02,\n",
       "        -4.83441108e-02,  6.78510888e-02,  9.99270006e-03,\n",
       "        -2.07389829e-01, -5.79195753e-02,  0.00000000e+00,\n",
       "        -1.25315123e-01, -3.43462641e-01],\n",
       "       [ 5.46191829e-02,  5.72282801e-02, -2.42941595e-02,\n",
       "        -2.42472957e-02, -1.32371916e-01, -3.58882686e-02,\n",
       "        -2.00627148e-01, -5.61240093e-02,  0.00000000e+00,\n",
       "        -1.19839868e-01, -2.84543223e-01],\n",
       "       [ 5.33101445e-02,  5.21581822e-02,  2.26714785e-02,\n",
       "         1.93176659e-02, -1.43125342e-01, -4.53509177e-02,\n",
       "        -1.76750693e-01, -5.45751176e-02,  0.00000000e+00,\n",
       "        -1.18073855e-01, -3.19941144e-01]])"
      ]
     },
     "execution_count": 46,
     "metadata": {},
     "output_type": "execute_result"
    }
   ],
   "source": [
    "model.get_shap_values(X_train, X_test, feature = 'enum',  plot=True)"
   ]
  },
  {
   "cell_type": "markdown",
   "metadata": {},
   "source": [
    "### **LIME**"
   ]
  },
  {
   "cell_type": "markdown",
   "metadata": {},
   "source": [
    "We use here the librairie survlimepy in order to generate LIME interpretation of survival models."
   ]
  },
  {
   "cell_type": "code",
   "execution_count": 47,
   "metadata": {},
   "outputs": [],
   "source": [
    "model.get_lime_explanation(X_train, X_test, y_test, sample_idx = [3,5])   # sample_idx represents the rows we want to analyse"
   ]
  },
  {
   "cell_type": "markdown",
   "metadata": {},
   "source": [
    "## **Hyperparameters importance**"
   ]
  },
  {
   "cell_type": "code",
   "execution_count": 48,
   "metadata": {},
   "outputs": [],
   "source": [
    "#The hyperparameters_range should contains only a list afo min_val or max_val, except for str hyperparameters (list of str you want to test)\n",
    "\n",
    "hyperparameters_range_GB = {\n",
    "    'learning_rate' : [0.001,0.5],\n",
    "    'n_estimators' : [50,200],\n",
    "    'max_depth' : [2,13],\n",
    "    'subsample' : [0.01,1],\n",
    "    'min_samples_split' : [3,14],\n",
    "    'min_samples_leaf' : [3,13]\n",
    "}\n",
    "\n",
    "hyperparameters_range_RF = {\n",
    "    'n_estimators' : [50,200],\n",
    "    'max_depth' : [2,13],\n",
    "    'max_samples' : [1e-3,0.9],\n",
    "    'min_samples_split' : [3,14],\n",
    "    'min_samples_leaf' : [3,13]\n",
    "}\n",
    "\n",
    "hyperparameters_range_SVM = {\n",
    "    'max_iter' : [100,1000],\n",
    "    'degree' : [2,5],\n",
    "    'gamma' : [1e-5,1e3],\n",
    "    'kernel' : ['linear', 'poly']\n",
    "}"
   ]
  },
  {
   "cell_type": "code",
   "execution_count": 49,
   "metadata": {},
   "outputs": [
    {
     "name": "stderr",
     "output_type": "stream",
     "text": [
      "Progress of Hyperparameters importance:   0%|          | 0/1400 [00:00<?, ?it/s]"
     ]
    },
    {
     "name": "stdout",
     "output_type": "stream",
     "text": [
      "Hyperparameters : learning_rate\n"
     ]
    },
    {
     "name": "stderr",
     "output_type": "stream",
     "text": [
      "Progress of Hyperparameters importance:  14%|█▍        | 200/1400 [02:07<13:52,  1.44it/s]"
     ]
    },
    {
     "name": "stdout",
     "output_type": "stream",
     "text": [
      "Hyperparameters : n_estimators\n"
     ]
    },
    {
     "name": "stderr",
     "output_type": "stream",
     "text": [
      "Progress of Hyperparameters importance:  29%|██▊       | 400/1400 [04:02<14:15,  1.17it/s]"
     ]
    },
    {
     "name": "stdout",
     "output_type": "stream",
     "text": [
      "Hyperparameters : max_depth\n"
     ]
    },
    {
     "name": "stderr",
     "output_type": "stream",
     "text": [
      "Progress of Hyperparameters importance:  37%|███▋      | 520/1400 [05:15<15:26,  1.05s/it]"
     ]
    },
    {
     "name": "stdout",
     "output_type": "stream",
     "text": [
      "Hyperparameters : subsample\n"
     ]
    },
    {
     "name": "stderr",
     "output_type": "stream",
     "text": [
      "Progress of Hyperparameters importance:  51%|█████▏    | 720/1400 [07:51<08:06,  1.40it/s]"
     ]
    },
    {
     "name": "stdout",
     "output_type": "stream",
     "text": [
      "Hyperparameters : min_samples_split\n"
     ]
    },
    {
     "name": "stderr",
     "output_type": "stream",
     "text": [
      "Progress of Hyperparameters importance:  60%|██████    | 840/1400 [09:31<07:52,  1.19it/s]"
     ]
    },
    {
     "name": "stdout",
     "output_type": "stream",
     "text": [
      "Hyperparameters : min_samples_leaf\n"
     ]
    },
    {
     "name": "stderr",
     "output_type": "stream",
     "text": [
      "Progress of Hyperparameters importance:  69%|██████▊   | 960/1400 [11:21<05:12,  1.41it/s]\n"
     ]
    },
    {
     "data": {
      "image/png": "[encoded data removed]",
      "text/plain": [
       "<Figure size 1000x600 with 1 Axes>"
      ]
     },
     "metadata": {},
     "output_type": "display_data"
    },
    {
     "data": {
      "text/plain": [
       "{'max_depth': 0.530931601359,\n",
       " 'min_samples_leaf': 0.5716441852053898,\n",
       " 'min_samples_split': 0.5887191872284683,\n",
       " 'subsample': 0.8791919375791186,\n",
       " 'learning_rate': 1.2561475276316156,\n",
       " 'n_estimators': 1.8000905860686083}"
      ]
     },
     "execution_count": 49,
     "metadata": {},
     "output_type": "execute_result"
    }
   ],
   "source": [
    "model.hyperparameters_importances(hyperparameters_range_GB, X_train, y_train, n_trials = 20, n_samples = 10, plot = True)"
   ]
  },
  {
   "cell_type": "markdown",
   "metadata": {},
   "source": [
    "## **Learning Curve**"
   ]
  },
  {
   "cell_type": "markdown",
   "metadata": {},
   "source": [
    "This method displays the learning curve of the model, using n_sample for time"
   ]
  },
  {
   "cell_type": "code",
   "execution_count": 50,
   "metadata": {},
   "outputs": [
    {
     "data": {
      "image/png": "[encoded data removed]",
      "text/plain": [
       "<Figure size 640x480 with 1 Axes>"
      ]
     },
     "metadata": {},
     "output_type": "display_data"
    }
   ],
   "source": [
    "model.learning_curve(X_train, X_test, y_train, y_test, n_sample = 25)"
   ]
  },
  {
   "cell_type": "markdown",
   "metadata": {},
   "source": [
    "## Comparaison with Cox model"
   ]
  },
  {
   "cell_type": "code",
   "execution_count": 13,
   "metadata": {},
   "outputs": [
    {
     "name": "stdout",
     "output_type": "stream",
     "text": [
      "The ML model improves the score of \u001b[31m3.63%\u001b[0m compared with the Cox model\n"
     ]
    }
   ],
   "source": [
    "model.compare_to_cox(df_rea_processed.drop(columns=['sex_Male','chemo_Treated','dukes_D','charlson_3']), X_test, y_test, y_train)"
   ]
  }
 ],
 "metadata": {
  "kernelspec": {
   "display_name": "Python 3",
   "language": "python",
   "name": "python3"
  },
  "language_info": {
   "codemirror_mode": {
    "name": "ipython",
    "version": 3
   },
   "file_extension": ".py",
   "mimetype": "text/x-python",
   "name": "python",
   "nbconvert_exporter": "python",
   "pygments_lexer": "ipython3",
   "version": "3.12.2"
  }
 },
 "nbformat": 4,
 "nbformat_minor": 2
}
