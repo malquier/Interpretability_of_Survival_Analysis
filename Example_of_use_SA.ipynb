{
 "cells": [
  {
   "cell_type": "markdown",
   "metadata": {},
   "source": [
    "# **This notebook aims to explain the differents uses of preprocessing pipeline and Model class in order to interprete Classifier Models for Survival Analysis**"
   ]
  },
  {
   "cell_type": "markdown",
   "metadata": {},
   "source": [
    "## **Librairies import**"
   ]
  },
  {
   "cell_type": "code",
   "execution_count": 9,
   "metadata": {},
   "outputs": [],
   "source": [
    "%run Model_survival.ipynb     # pip install nbformat\n",
    "import pandas as pd\n",
    "import numpy as np\n",
    "from sksurv.datasets import get_x_y\n",
    "from sklearn.model_selection import train_test_split"
   ]
  },
  {
   "cell_type": "markdown",
   "metadata": {},
   "source": [
    "## **Preprocessing**"
   ]
  },
  {
   "cell_type": "markdown",
   "metadata": {},
   "source": [
    "### **Dataset import**"
   ]
  },
  {
   "cell_type": "code",
   "execution_count": 10,
   "metadata": {},
   "outputs": [],
   "source": [
    "# Dataset Readmission\n",
    "data_rea = pd.read_csv(\"readmission.csv\")"
   ]
  },
  {
   "cell_type": "code",
   "execution_count": 3,
   "metadata": {},
   "outputs": [],
   "source": [
    "# Dataset Insurance\n",
    "data_ins = pd.read_csv(\"X_train.csv\")\n",
    "ins_credit = pd.read_csv(\"y_train.csv\")\n",
    "\n",
    "data_ins.rename(columns = {'0':'age','1':'sex', '2':'smoker', '3':'pren_prod', '4':'pren_comp', '5':'point_sales', '6': 'product_type', '7': 'dist_channel', '8': 'pay_freq', '9': 'pay_method', '10':'profession'}, inplace = True)\n"
   ]
  },
  {
   "cell_type": "markdown",
   "metadata": {},
   "source": [
    "You need to sort your data to keep only the covariates of interest. In addition, there must be no missing data."
   ]
  },
  {
   "cell_type": "code",
   "execution_count": 11,
   "metadata": {},
   "outputs": [],
   "source": [
    "rea_sorted = data_rea.sort_values(by=['id', 'enum'], ascending=[True, True])\n",
    "rea_filtred = rea_sorted.groupby('id').last().reset_index()\n",
    "\n",
    "rea_final = rea_filtred.drop(columns=['id', 't.start', 't.stop', 'event'])"
   ]
  },
  {
   "cell_type": "code",
   "execution_count": 5,
   "metadata": {},
   "outputs": [
    {
     "data": {
      "text/html": [
       "<div>\n",
       "<style scoped>\n",
       "    .dataframe tbody tr th:only-of-type {\n",
       "        vertical-align: middle;\n",
       "    }\n",
       "\n",
       "    .dataframe tbody tr th {\n",
       "        vertical-align: top;\n",
       "    }\n",
       "\n",
       "    .dataframe thead th {\n",
       "        text-align: right;\n",
       "    }\n",
       "</style>\n",
       "<table border=\"1\" class=\"dataframe\">\n",
       "  <thead>\n",
       "    <tr style=\"text-align: right;\">\n",
       "      <th></th>\n",
       "      <th>age</th>\n",
       "      <th>sex</th>\n",
       "      <th>smoker</th>\n",
       "      <th>pren_prod</th>\n",
       "      <th>pren_comp</th>\n",
       "      <th>point_sales</th>\n",
       "      <th>product_type</th>\n",
       "      <th>dist_channel</th>\n",
       "      <th>pay_freq</th>\n",
       "      <th>pay_method</th>\n",
       "      <th>profession</th>\n",
       "      <th>evento</th>\n",
       "      <th>time</th>\n",
       "    </tr>\n",
       "  </thead>\n",
       "  <tbody>\n",
       "    <tr>\n",
       "      <th>7909</th>\n",
       "      <td>46</td>\n",
       "      <td>1</td>\n",
       "      <td>1</td>\n",
       "      <td>76.50</td>\n",
       "      <td>0.00</td>\n",
       "      <td>0</td>\n",
       "      <td>8</td>\n",
       "      <td>2</td>\n",
       "      <td>3</td>\n",
       "      <td>1</td>\n",
       "      <td>1</td>\n",
       "      <td>True</td>\n",
       "      <td>16.0</td>\n",
       "    </tr>\n",
       "    <tr>\n",
       "      <th>7910</th>\n",
       "      <td>31</td>\n",
       "      <td>0</td>\n",
       "      <td>1</td>\n",
       "      <td>210.00</td>\n",
       "      <td>0.00</td>\n",
       "      <td>0</td>\n",
       "      <td>0</td>\n",
       "      <td>1</td>\n",
       "      <td>1</td>\n",
       "      <td>0</td>\n",
       "      <td>2</td>\n",
       "      <td>True</td>\n",
       "      <td>1762.0</td>\n",
       "    </tr>\n",
       "    <tr>\n",
       "      <th>7911</th>\n",
       "      <td>42</td>\n",
       "      <td>1</td>\n",
       "      <td>1</td>\n",
       "      <td>21.25</td>\n",
       "      <td>22.80</td>\n",
       "      <td>0</td>\n",
       "      <td>7</td>\n",
       "      <td>2</td>\n",
       "      <td>0</td>\n",
       "      <td>1</td>\n",
       "      <td>0</td>\n",
       "      <td>True</td>\n",
       "      <td>91.0</td>\n",
       "    </tr>\n",
       "    <tr>\n",
       "      <th>7912</th>\n",
       "      <td>18</td>\n",
       "      <td>0</td>\n",
       "      <td>1</td>\n",
       "      <td>600.00</td>\n",
       "      <td>1660.29</td>\n",
       "      <td>1</td>\n",
       "      <td>8</td>\n",
       "      <td>1</td>\n",
       "      <td>3</td>\n",
       "      <td>0</td>\n",
       "      <td>1</td>\n",
       "      <td>False</td>\n",
       "      <td>1035.0</td>\n",
       "    </tr>\n",
       "    <tr>\n",
       "      <th>7913</th>\n",
       "      <td>29</td>\n",
       "      <td>1</td>\n",
       "      <td>1</td>\n",
       "      <td>43.45</td>\n",
       "      <td>0.00</td>\n",
       "      <td>1</td>\n",
       "      <td>8</td>\n",
       "      <td>2</td>\n",
       "      <td>3</td>\n",
       "      <td>1</td>\n",
       "      <td>1</td>\n",
       "      <td>True</td>\n",
       "      <td>2041.0</td>\n",
       "    </tr>\n",
       "  </tbody>\n",
       "</table>\n",
       "</div>"
      ],
      "text/plain": [
       "      age  sex  smoker  pren_prod  pren_comp  point_sales  product_type  \\\n",
       "7909   46    1       1      76.50       0.00            0             8   \n",
       "7910   31    0       1     210.00       0.00            0             0   \n",
       "7911   42    1       1      21.25      22.80            0             7   \n",
       "7912   18    0       1     600.00    1660.29            1             8   \n",
       "7913   29    1       1      43.45       0.00            1             8   \n",
       "\n",
       "      dist_channel  pay_freq  pay_method  profession  evento    time  \n",
       "7909             2         3           1           1    True    16.0  \n",
       "7910             1         1           0           2    True  1762.0  \n",
       "7911             2         0           1           0    True    91.0  \n",
       "7912             1         3           0           1   False  1035.0  \n",
       "7913             2         3           1           1    True  2041.0  "
      ]
     },
     "execution_count": 5,
     "metadata": {},
     "output_type": "execute_result"
    }
   ],
   "source": [
    "df = pd.concat([data_ins, ins_credit], axis=1).drop(columns=['Unnamed: 0'])\n",
    "categorial_columns = ['sex', 'smoker', 'point_sales', 'product_type', 'dist_channel', 'pay_freq', 'pay_method', 'profession']\n",
    "\n",
    "# remove negative time rows\n",
    "df = df[df['time'] > 0]\n",
    "\n",
    "df.tail()"
   ]
  },
  {
   "cell_type": "markdown",
   "metadata": {},
   "source": [
    "### **Encoding Data**"
   ]
  },
  {
   "cell_type": "code",
   "execution_count": 4,
   "metadata": {},
   "outputs": [
    {
     "ename": "NameError",
     "evalue": "name 'df' is not defined",
     "output_type": "error",
     "traceback": [
      "\u001b[1;31m---------------------------------------------------------------------------\u001b[0m",
      "\u001b[1;31mNameError\u001b[0m                                 Traceback (most recent call last)",
      "Cell \u001b[1;32mIn[4], line 1\u001b[0m\n\u001b[1;32m----> 1\u001b[0m df_ins_encoded \u001b[38;5;241m=\u001b[39m encoded_data(\u001b[43mdf\u001b[49m, categorial_columns)\n\u001b[0;32m      2\u001b[0m df_ins_final \u001b[38;5;241m=\u001b[39m df_ins_encoded\u001b[38;5;241m.\u001b[39mdropna()\n\u001b[0;32m      4\u001b[0m df_ins_final\u001b[38;5;241m.\u001b[39mhead()\n",
      "\u001b[1;31mNameError\u001b[0m: name 'df' is not defined"
     ]
    }
   ],
   "source": [
    "df_ins_encoded = encoded_data(df, categorial_columns)\n",
    "df_ins_final = df_ins_encoded.dropna()\n",
    "\n",
    "df_ins_final.head()"
   ]
  },
  {
   "cell_type": "code",
   "execution_count": 12,
   "metadata": {},
   "outputs": [
    {
     "data": {
      "text/html": [
       "<div>\n",
       "<style scoped>\n",
       "    .dataframe tbody tr th:only-of-type {\n",
       "        vertical-align: middle;\n",
       "    }\n",
       "\n",
       "    .dataframe tbody tr th {\n",
       "        vertical-align: top;\n",
       "    }\n",
       "\n",
       "    .dataframe thead th {\n",
       "        text-align: right;\n",
       "    }\n",
       "</style>\n",
       "<table border=\"1\" class=\"dataframe\">\n",
       "  <thead>\n",
       "    <tr style=\"text-align: right;\">\n",
       "      <th></th>\n",
       "      <th>chemo_NonTreated</th>\n",
       "      <th>chemo_Treated</th>\n",
       "      <th>sex_Female</th>\n",
       "      <th>sex_Male</th>\n",
       "      <th>dukes_A-B</th>\n",
       "      <th>dukes_C</th>\n",
       "      <th>dukes_D</th>\n",
       "      <th>charlson_0</th>\n",
       "      <th>charlson_1-2</th>\n",
       "      <th>charlson_3</th>\n",
       "      <th>enum</th>\n",
       "      <th>time</th>\n",
       "      <th>death</th>\n",
       "    </tr>\n",
       "  </thead>\n",
       "  <tbody>\n",
       "    <tr>\n",
       "      <th>0</th>\n",
       "      <td>0.0</td>\n",
       "      <td>1.0</td>\n",
       "      <td>1.0</td>\n",
       "      <td>0.0</td>\n",
       "      <td>0.0</td>\n",
       "      <td>0.0</td>\n",
       "      <td>1.0</td>\n",
       "      <td>1.0</td>\n",
       "      <td>0.0</td>\n",
       "      <td>0.0</td>\n",
       "      <td>3.0</td>\n",
       "      <td>580.0</td>\n",
       "      <td>0.0</td>\n",
       "    </tr>\n",
       "    <tr>\n",
       "      <th>1</th>\n",
       "      <td>1.0</td>\n",
       "      <td>0.0</td>\n",
       "      <td>0.0</td>\n",
       "      <td>1.0</td>\n",
       "      <td>0.0</td>\n",
       "      <td>1.0</td>\n",
       "      <td>0.0</td>\n",
       "      <td>1.0</td>\n",
       "      <td>0.0</td>\n",
       "      <td>0.0</td>\n",
       "      <td>2.0</td>\n",
       "      <td>693.0</td>\n",
       "      <td>0.0</td>\n",
       "    </tr>\n",
       "    <tr>\n",
       "      <th>2</th>\n",
       "      <td>1.0</td>\n",
       "      <td>0.0</td>\n",
       "      <td>0.0</td>\n",
       "      <td>1.0</td>\n",
       "      <td>0.0</td>\n",
       "      <td>1.0</td>\n",
       "      <td>0.0</td>\n",
       "      <td>0.0</td>\n",
       "      <td>0.0</td>\n",
       "      <td>1.0</td>\n",
       "      <td>2.0</td>\n",
       "      <td>768.0</td>\n",
       "      <td>1.0</td>\n",
       "    </tr>\n",
       "    <tr>\n",
       "      <th>3</th>\n",
       "      <td>0.0</td>\n",
       "      <td>1.0</td>\n",
       "      <td>1.0</td>\n",
       "      <td>0.0</td>\n",
       "      <td>1.0</td>\n",
       "      <td>0.0</td>\n",
       "      <td>0.0</td>\n",
       "      <td>1.0</td>\n",
       "      <td>0.0</td>\n",
       "      <td>0.0</td>\n",
       "      <td>5.0</td>\n",
       "      <td>1362.0</td>\n",
       "      <td>0.0</td>\n",
       "    </tr>\n",
       "    <tr>\n",
       "      <th>4</th>\n",
       "      <td>1.0</td>\n",
       "      <td>0.0</td>\n",
       "      <td>1.0</td>\n",
       "      <td>0.0</td>\n",
       "      <td>0.0</td>\n",
       "      <td>1.0</td>\n",
       "      <td>0.0</td>\n",
       "      <td>0.0</td>\n",
       "      <td>0.0</td>\n",
       "      <td>1.0</td>\n",
       "      <td>2.0</td>\n",
       "      <td>10.0</td>\n",
       "      <td>0.0</td>\n",
       "    </tr>\n",
       "  </tbody>\n",
       "</table>\n",
       "</div>"
      ],
      "text/plain": [
       "   chemo_NonTreated  chemo_Treated  sex_Female  sex_Male  dukes_A-B  dukes_C  \\\n",
       "0               0.0            1.0         1.0       0.0        0.0      0.0   \n",
       "1               1.0            0.0         0.0       1.0        0.0      1.0   \n",
       "2               1.0            0.0         0.0       1.0        0.0      1.0   \n",
       "3               0.0            1.0         1.0       0.0        1.0      0.0   \n",
       "4               1.0            0.0         1.0       0.0        0.0      1.0   \n",
       "\n",
       "   dukes_D  charlson_0  charlson_1-2  charlson_3  enum    time  death  \n",
       "0      1.0         1.0           0.0         0.0   3.0   580.0    0.0  \n",
       "1      0.0         1.0           0.0         0.0   2.0   693.0    0.0  \n",
       "2      0.0         0.0           0.0         1.0   2.0   768.0    1.0  \n",
       "3      0.0         1.0           0.0         0.0   5.0  1362.0    0.0  \n",
       "4      0.0         0.0           0.0         1.0   2.0    10.0    0.0  "
      ]
     },
     "execution_count": 12,
     "metadata": {},
     "output_type": "execute_result"
    }
   ],
   "source": [
    "pipeline = create_pipeline(rea_final)\n",
    "\n",
    "# Apply the pipeline to the DataFrame\n",
    "df_rea_processed = apply_pipeline(pipeline, rea_final)\n",
    "\n",
    "df_rea_processed.head()"
   ]
  },
  {
   "cell_type": "markdown",
   "metadata": {},
   "source": [
    "### **Get training/test dataset**"
   ]
  },
  {
   "cell_type": "code",
   "execution_count": 13,
   "metadata": {},
   "outputs": [],
   "source": [
    "X,y = get_x_y(df_rea_processed,attr_labels=['death','time'],pos_label=1,survival=True)\n",
    "X_train, X_test, y_train, y_test = train_test_split(X, y, test_size=0.2, random_state=42)"
   ]
  },
  {
   "cell_type": "code",
   "execution_count": 7,
   "metadata": {},
   "outputs": [
    {
     "data": {
      "text/html": [
       "<div>\n",
       "<style scoped>\n",
       "    .dataframe tbody tr th:only-of-type {\n",
       "        vertical-align: middle;\n",
       "    }\n",
       "\n",
       "    .dataframe tbody tr th {\n",
       "        vertical-align: top;\n",
       "    }\n",
       "\n",
       "    .dataframe thead th {\n",
       "        text-align: right;\n",
       "    }\n",
       "</style>\n",
       "<table border=\"1\" class=\"dataframe\">\n",
       "  <thead>\n",
       "    <tr style=\"text-align: right;\">\n",
       "      <th></th>\n",
       "      <th>chemo_NonTreated</th>\n",
       "      <th>chemo_Treated</th>\n",
       "      <th>sex_Female</th>\n",
       "      <th>sex_Male</th>\n",
       "      <th>dukes_A-B</th>\n",
       "      <th>dukes_C</th>\n",
       "      <th>dukes_D</th>\n",
       "      <th>charlson_0</th>\n",
       "      <th>charlson_1-2</th>\n",
       "      <th>charlson_3</th>\n",
       "      <th>enum</th>\n",
       "    </tr>\n",
       "  </thead>\n",
       "  <tbody>\n",
       "    <tr>\n",
       "      <th>71</th>\n",
       "      <td>0.0</td>\n",
       "      <td>1.0</td>\n",
       "      <td>1.0</td>\n",
       "      <td>0.0</td>\n",
       "      <td>0.0</td>\n",
       "      <td>0.0</td>\n",
       "      <td>1.0</td>\n",
       "      <td>0.0</td>\n",
       "      <td>0.0</td>\n",
       "      <td>1.0</td>\n",
       "      <td>1.0</td>\n",
       "    </tr>\n",
       "    <tr>\n",
       "      <th>106</th>\n",
       "      <td>0.0</td>\n",
       "      <td>1.0</td>\n",
       "      <td>1.0</td>\n",
       "      <td>0.0</td>\n",
       "      <td>0.0</td>\n",
       "      <td>0.0</td>\n",
       "      <td>1.0</td>\n",
       "      <td>1.0</td>\n",
       "      <td>0.0</td>\n",
       "      <td>0.0</td>\n",
       "      <td>1.0</td>\n",
       "    </tr>\n",
       "    <tr>\n",
       "      <th>270</th>\n",
       "      <td>0.0</td>\n",
       "      <td>1.0</td>\n",
       "      <td>0.0</td>\n",
       "      <td>1.0</td>\n",
       "      <td>0.0</td>\n",
       "      <td>1.0</td>\n",
       "      <td>0.0</td>\n",
       "      <td>0.0</td>\n",
       "      <td>0.0</td>\n",
       "      <td>1.0</td>\n",
       "      <td>1.0</td>\n",
       "    </tr>\n",
       "    <tr>\n",
       "      <th>348</th>\n",
       "      <td>1.0</td>\n",
       "      <td>0.0</td>\n",
       "      <td>0.0</td>\n",
       "      <td>1.0</td>\n",
       "      <td>0.0</td>\n",
       "      <td>1.0</td>\n",
       "      <td>0.0</td>\n",
       "      <td>1.0</td>\n",
       "      <td>0.0</td>\n",
       "      <td>0.0</td>\n",
       "      <td>2.0</td>\n",
       "    </tr>\n",
       "    <tr>\n",
       "      <th>102</th>\n",
       "      <td>1.0</td>\n",
       "      <td>0.0</td>\n",
       "      <td>1.0</td>\n",
       "      <td>0.0</td>\n",
       "      <td>1.0</td>\n",
       "      <td>0.0</td>\n",
       "      <td>0.0</td>\n",
       "      <td>1.0</td>\n",
       "      <td>0.0</td>\n",
       "      <td>0.0</td>\n",
       "      <td>2.0</td>\n",
       "    </tr>\n",
       "  </tbody>\n",
       "</table>\n",
       "</div>"
      ],
      "text/plain": [
       "     chemo_NonTreated  chemo_Treated  sex_Female  sex_Male  dukes_A-B  \\\n",
       "71                0.0            1.0         1.0       0.0        0.0   \n",
       "106               0.0            1.0         1.0       0.0        0.0   \n",
       "270               0.0            1.0         0.0       1.0        0.0   \n",
       "348               1.0            0.0         0.0       1.0        0.0   \n",
       "102               1.0            0.0         1.0       0.0        1.0   \n",
       "\n",
       "     dukes_C  dukes_D  charlson_0  charlson_1-2  charlson_3  enum  \n",
       "71       0.0      1.0         0.0           0.0         1.0   1.0  \n",
       "106      0.0      1.0         1.0           0.0         0.0   1.0  \n",
       "270      1.0      0.0         0.0           0.0         1.0   1.0  \n",
       "348      1.0      0.0         1.0           0.0         0.0   2.0  \n",
       "102      0.0      0.0         1.0           0.0         0.0   2.0  "
      ]
     },
     "execution_count": 7,
     "metadata": {},
     "output_type": "execute_result"
    }
   ],
   "source": [
    "X_train.tail()"
   ]
  },
  {
   "cell_type": "markdown",
   "metadata": {},
   "source": [
    "## **Model Construction**"
   ]
  },
  {
   "cell_type": "markdown",
   "metadata": {},
   "source": [
    "### **Build the model**"
   ]
  },
  {
   "cell_type": "code",
   "execution_count": 103,
   "metadata": {},
   "outputs": [
    {
     "name": "stdout",
     "output_type": "stream",
     "text": [
      "Best hyperparameters with optuna : {'learning_rate': 0.008905968688136479, 'n_estimators': 50, 'max_depth': 10, 'subsample': 0.8432326883926484, 'min_samples_split': 9, 'min_samples_leaf': 4}\n"
     ]
    },
    {
     "name": "stderr",
     "output_type": "stream",
     "text": [
      "Progress of GridSearchCV: 100%|██████████| 324/324 [01:19<00:00,  4.06it/s]"
     ]
    },
    {
     "name": "stdout",
     "output_type": "stream",
     "text": [
      "Best hyperparameters with optuna - GridSearch : \u001b[34m{'learning_rate': 0.00801537181932283, 'n_estimators': 45, 'max_depth': 9, 'subsample': 0.7589094195533836, 'min_samples_split': 8, 'min_samples_leaf': 3, 'random_state': 42}\u001b[0m \n",
      "with a score: \u001b[34m0.8176771634454933\u001b[0m; and the scorer: \u001b[34mconcordance_index_ipcw\u001b[0m\n"
     ]
    },
    {
     "name": "stderr",
     "output_type": "stream",
     "text": [
      "\n"
     ]
    }
   ],
   "source": [
    "model = Model(GradientBoostingSurvivalAnalysis())                           # Choose your model between FastKernelSurvivalSVM(), GradientBoostingSurvivalAnalysis(), RandomSurvivalForest()\n",
    "model.scorer = 'concordance_index_ipcw'                          # others scorer possible : 'concordance_censored', 'concordance_index_ipcw', 'ibs', 'cumulative_dynamic_auc'\n",
    "model.optimize(X_train, y_train, n_trials = 50 ,num_samples=3)   # n_trials corresponds to n_trials of optuna optimization\n",
    "model.fit(X_train, y_train)                                      # num_samples corresponds to the number of each hyperparameters values for GridSearch optimization"
   ]
  },
  {
   "cell_type": "markdown",
   "metadata": {},
   "source": [
    "### **Describe the model**"
   ]
  },
  {
   "cell_type": "markdown",
   "metadata": {},
   "source": [
    "We have differents attributs/methods helping us to describe the model"
   ]
  },
  {
   "cell_type": "code",
   "execution_count": 104,
   "metadata": {},
   "outputs": [
    {
     "data": {
      "text/plain": [
       "{'learning_rate': 0.00801537181932283,\n",
       " 'n_estimators': 45,\n",
       " 'max_depth': 9,\n",
       " 'subsample': 0.7589094195533836,\n",
       " 'min_samples_split': 8,\n",
       " 'min_samples_leaf': 3,\n",
       " 'random_state': 42}"
      ]
     },
     "execution_count": 104,
     "metadata": {},
     "output_type": "execute_result"
    }
   ],
   "source": [
    "# Get hyperparameters parameters\n",
    "model.get_params()"
   ]
  },
  {
   "cell_type": "code",
   "execution_count": 105,
   "metadata": {},
   "outputs": [
    {
     "name": "stdout",
     "output_type": "stream",
     "text": [
      "the model score for the random_state 0 is {'concordance_index_ipcw': 0.8418455691334074}\n",
      "the model score for the random_state 1 is {'concordance_index_ipcw': 0.839873248732069}\n",
      "the model score for the random_state 2 is {'concordance_index_ipcw': 0.8442765671556974}\n",
      "the model score for the random_state 3 is {'concordance_index_ipcw': 0.8450499668586012}\n",
      "the model score for the random_state 4 is {'concordance_index_ipcw': 0.8426951418111561}\n"
     ]
    }
   ],
   "source": [
    "# Get/input random_state of the model\n",
    "model.random_state\n",
    "\n",
    "# Define random_state before training/optimize the model\n",
    "for i in range(5):\n",
    "    model.random_state = i\n",
    "    model.fit(X_train,y_train)\n",
    "    print(f'the model score for the random_state {model.random_state} is {model.score(X_test, y_test, y_train)}')"
   ]
  },
  {
   "cell_type": "code",
   "execution_count": 106,
   "metadata": {},
   "outputs": [],
   "source": [
    "model.random_state = 42     # or model.params['random_state'] = 42"
   ]
  },
  {
   "cell_type": "code",
   "execution_count": 27,
   "metadata": {},
   "outputs": [],
   "source": [
    "# We can have the survival prediction of the model for a dataset\n",
    "y_pred = model.predict(X_test)"
   ]
  },
  {
   "cell_type": "markdown",
   "metadata": {},
   "source": [
    "### **Evaluate the model**"
   ]
  },
  {
   "cell_type": "markdown",
   "metadata": {},
   "source": [
    "We can evaluate our model using different metrics, but we can also define the metric to be used to optimise the model. The different survival scores are : 'concordance_censored', 'concordance_index_ipcw', 'ibs', 'cumulative_dynamic_auc'."
   ]
  },
  {
   "cell_type": "code",
   "execution_count": 107,
   "metadata": {},
   "outputs": [
    {
     "data": {
      "text/plain": [
       "{'concordance_index_ipcw': 0.8426951418111561}"
      ]
     },
     "execution_count": 107,
     "metadata": {},
     "output_type": "execute_result"
    }
   ],
   "source": [
    "# Evaluate the model with the default scorer\n",
    "model.score(X_test, y_test, y_train)"
   ]
  },
  {
   "cell_type": "code",
   "execution_count": 108,
   "metadata": {},
   "outputs": [
    {
     "data": {
      "text/plain": [
       "{'concordance_censored': 0.863126079447323,\n",
       " 'concordance_index_ipcw': 0.8426951418111561,\n",
       " 'cumulative_dynamic_auc': 0.9031399894760563,\n",
       " 'ibs': 0.8180094895767052}"
      ]
     },
     "execution_count": 108,
     "metadata": {},
     "output_type": "execute_result"
    }
   ],
   "source": [
    "model.score(X_test, y_test, y_train, metrics = ['concordance_censored', 'concordance_index_ipcw', 'cumulative_dynamic_auc', 'ibs'])"
   ]
  },
  {
   "cell_type": "code",
   "execution_count": 109,
   "metadata": {},
   "outputs": [
    {
     "data": {
      "text/plain": [
       "{'cumulative_dynamic_auc': 0.9031399894760563}"
      ]
     },
     "execution_count": 109,
     "metadata": {},
     "output_type": "execute_result"
    }
   ],
   "source": [
    "# Change of the scorer for optimization :\n",
    "model.scorer = 'cumulative_dynamic_auc'\n",
    "\n",
    "model.score(X_test, y_test, y_train)"
   ]
  },
  {
   "cell_type": "markdown",
   "metadata": {},
   "source": [
    "## **Interpretability methods**"
   ]
  },
  {
   "cell_type": "markdown",
   "metadata": {},
   "source": [
    "3 methods are implemented to interprete our model : Permutation importance, Shap and LIME. All this methods can be find in get_interpretability_methods but this method isn't worth if you want to have only one or two methods of interpretability."
   ]
  },
  {
   "cell_type": "code",
   "execution_count": 59,
   "metadata": {},
   "outputs": [],
   "source": [
    "# model.get_interpretability_methods(X_train, X_test, y_train, y_test, feature = 'enum', index = 10, plot = True)"
   ]
  },
  {
   "cell_type": "markdown",
   "metadata": {},
   "source": [
    "### **Permutation Importance**"
   ]
  },
  {
   "cell_type": "markdown",
   "metadata": {},
   "source": [
    "Displays of variable's importance"
   ]
  },
  {
   "cell_type": "code",
   "execution_count": 110,
   "metadata": {},
   "outputs": [
    {
     "data": {
      "image/png": "[encoded data removed]",
      "text/plain": [
       "<Figure size 1000x600 with 1 Axes>"
      ]
     },
     "metadata": {},
     "output_type": "display_data"
    },
    {
     "data": {
      "text/plain": [
       "{'charlson_1-2': 0.10323783600717411,\n",
       " 'dukes_A-B': 0.3360474496646124,\n",
       " 'dukes_C': 0.8990968109913955,\n",
       " 'chemo_Treated': 1.4972375467516645,\n",
       " 'chemo_NonTreated': 1.6169972281318206,\n",
       " 'sex_Male': 2.371310709399471,\n",
       " 'sex_Female': 3.3532206131415045,\n",
       " 'charlson_0': 8.300238159017805,\n",
       " 'dukes_D': 25.503601160608326,\n",
       " 'charlson_3': 26.230018846800835,\n",
       " 'enum': 29.788993639485394}"
      ]
     },
     "execution_count": 110,
     "metadata": {},
     "output_type": "execute_result"
    }
   ],
   "source": [
    "model.get_pi_values(X_test, y_test, y_train, plot = True)   # Plot = True displays the variable importance. plot = False per default"
   ]
  },
  {
   "cell_type": "markdown",
   "metadata": {},
   "source": [
    "### **SHAP**"
   ]
  },
  {
   "cell_type": "markdown",
   "metadata": {},
   "source": [
    "For Shap, you can specify whether you want the summary plot with the option (plot=True), but you can also plot the graph representing SHAP values as a function of the values of a specified feature (feature=...)."
   ]
  },
  {
   "cell_type": "code",
   "execution_count": 111,
   "metadata": {},
   "outputs": [
    {
     "data": {
      "image/png": "[encoded data removed]",
      "text/plain": [
       "<Figure size 800x590 with 2 Axes>"
      ]
     },
     "metadata": {},
     "output_type": "display_data"
    },
    {
     "data": {
      "image/png": "[encoded data removed]",
      "text/plain": [
       "<Figure size 750x500 with 2 Axes>"
      ]
     },
     "metadata": {},
     "output_type": "display_data"
    },
    {
     "data": {
      "text/plain": [
       "array([[ 4.74519655e-03,  1.13842552e-02, -3.46781849e-03,\n",
       "        -5.52460170e-04,  1.03725093e-02, -5.16736733e-03,\n",
       "         1.07340074e-01,  6.37563726e-02, -1.03570020e-04,\n",
       "         8.00672263e-02,  2.85611206e-02],\n",
       "       [-1.28874805e-02, -1.50512362e-02,  6.95297716e-03,\n",
       "         6.84453650e-03,  1.08617584e-02,  1.22411815e-02,\n",
       "        -1.39786307e-02, -6.80242972e-03, -2.12413728e-04,\n",
       "        -3.30617508e-02,  3.53051562e-02],\n",
       "       [-1.08267051e-02, -5.31577842e-03, -3.51043817e-03,\n",
       "        -3.67791474e-03,  6.50532640e-03,  7.58412589e-03,\n",
       "        -3.21472621e-02, -6.41064230e-03, -4.81709829e-04,\n",
       "        -1.62753053e-02, -4.17373474e-02],\n",
       "       [ 3.51030477e-04,  9.89935322e-03,  2.55973933e-02,\n",
       "         2.12466198e-02,  1.55573884e-02, -7.02913279e-03,\n",
       "         1.78681870e-01, -1.38269017e-02, -8.77797738e-05,\n",
       "        -1.29039873e-02,  2.45182784e-03],\n",
       "       [ 1.67790663e-02,  2.18370938e-02,  6.05217268e-04,\n",
       "         2.54438535e-03,  1.93587782e-02,  2.41760217e-02,\n",
       "        -1.66042303e-02,  1.30700990e-02,  3.45046359e-03,\n",
       "        -2.51880947e-02,  4.44197029e-02],\n",
       "       [-2.82133798e-03, -6.05251872e-03,  1.40780332e-02,\n",
       "         1.71851191e-02, -2.82152408e-03, -2.96018236e-03,\n",
       "        -7.26645662e-03, -5.00766365e-03, -1.68410405e-04,\n",
       "        -2.33525765e-02,  1.57409738e-01],\n",
       "       [ 2.26577028e-03,  6.80787296e-03, -1.93525261e-03,\n",
       "        -2.57507050e-03, -7.99407903e-03, -6.85973938e-03,\n",
       "        -7.18607904e-03,  8.11583869e-03, -1.30329583e-04,\n",
       "         1.85360134e-01,  1.20432782e-01],\n",
       "       [-1.91710276e-03, -1.76646442e-03, -4.25034882e-03,\n",
       "        -1.91246646e-03,  4.56282019e-03,  6.06659448e-03,\n",
       "        -9.77444830e-03,  8.64454172e-03, -1.47310347e-04,\n",
       "         1.56654016e-01,  9.84163368e-02],\n",
       "       [ 8.32836028e-03,  1.19393075e-02,  3.42413275e-03,\n",
       "         4.55872900e-03, -1.56162319e-02, -1.40301370e-02,\n",
       "        -2.06627253e-02,  1.40789863e-02,  5.23190820e-03,\n",
       "        -2.85846492e-02,  3.61479967e-02],\n",
       "       [-1.64443263e-03, -2.63883034e-03, -2.56831004e-03,\n",
       "        -8.93124322e-04,  7.51078394e-03, -1.04181642e-03,\n",
       "         9.69423951e-02,  3.95374493e-02, -1.08739670e-04,\n",
       "         9.81967144e-02,  2.27830681e-02],\n",
       "       [-7.35982423e-03, -7.42958043e-03,  5.19111082e-03,\n",
       "         7.80741384e-03,  4.57452953e-03, -2.33042184e-03,\n",
       "         2.09548105e-01,  7.10253707e-03, -1.78242073e-04,\n",
       "         4.59412864e-02, -3.68398805e-02],\n",
       "       [ 1.05499528e-02,  1.03736365e-02, -4.53988824e-03,\n",
       "        -4.30123851e-03, -2.68242214e-02, -1.94887790e-02,\n",
       "        -2.63682087e-02, -6.00336493e-03, -1.50775618e-04,\n",
       "        -2.23976828e-02,  2.52419309e-03],\n",
       "       [-7.32165002e-03, -1.12346366e-02, -5.35804838e-03,\n",
       "        -3.05312828e-03,  1.28243184e-02,  1.31431570e-02,\n",
       "        -1.59555507e-02,  1.50971565e-02, -1.00457778e-04,\n",
       "         1.41338484e-01,  1.93003665e-02],\n",
       "       [ 8.72346395e-03,  1.03497993e-02, -1.96518725e-03,\n",
       "        -4.02942633e-03, -7.24847109e-03, -7.14166518e-03,\n",
       "        -2.90622182e-02, -6.32522342e-03, -4.14994979e-04,\n",
       "        -1.14975121e-02, -3.32538031e-02],\n",
       "       [ 2.13392719e-02,  2.30409415e-02, -4.36072151e-05,\n",
       "         8.95134217e-04,  1.99795716e-02,  2.37147946e-02,\n",
       "        -7.66945377e-03, -7.07575131e-03, -1.65376633e-04,\n",
       "        -2.64146507e-02,  4.20558784e-02],\n",
       "       [-4.27337283e-03, -4.57475307e-03, -1.44799888e-03,\n",
       "        -6.00273580e-04,  1.05926637e-02,  9.99620042e-03,\n",
       "        -2.40139411e-02,  1.55784912e-02, -2.31405515e-04,\n",
       "         7.14606346e-02, -9.11756076e-02],\n",
       "       [-1.38046018e-02, -1.13032651e-02,  3.56232221e-03,\n",
       "         3.97003703e-03,  7.59607087e-03,  9.13339758e-03,\n",
       "        -2.31155140e-02, -5.80677332e-03, -3.75502199e-04,\n",
       "        -1.43240515e-02, -5.43310054e-02],\n",
       "       [ 9.00418825e-03,  9.81024076e-03,  2.12188511e-03,\n",
       "         2.78759729e-03, -1.12697441e-02, -1.01074645e-02,\n",
       "        -2.21548716e-02, -6.04780371e-03, -3.43387085e-04,\n",
       "        -8.71024963e-03, -3.88278159e-02],\n",
       "       [ 7.83306825e-03,  1.28785034e-02, -3.28078646e-03,\n",
       "        -3.61601737e-03, -2.13067718e-02, -2.59509209e-02,\n",
       "        -2.83852247e-02, -6.14027136e-03, -1.55389870e-04,\n",
       "        -2.21431301e-02,  3.64056400e-03],\n",
       "       [ 5.85540324e-03,  5.93185721e-03,  3.43915450e-04,\n",
       "        -2.83524381e-03, -8.03281800e-03, -6.03321525e-03,\n",
       "        -2.96958356e-02,  1.84440804e-02,  1.11024389e-02,\n",
       "        -1.36573258e-02, -2.05137574e-02],\n",
       "       [ 9.55797362e-03,  1.11772147e-02,  3.35877501e-03,\n",
       "         3.67591941e-03, -1.27534087e-02, -9.92980980e-03,\n",
       "        -2.19753902e-02, -6.31557825e-03, -3.00941585e-04,\n",
       "        -1.07068388e-02, -3.95253406e-02],\n",
       "       [-1.43330155e-03, -5.25189643e-03,  1.07605494e-02,\n",
       "         2.75088421e-03,  4.86326897e-03, -1.29743468e-03,\n",
       "         1.25504689e-01,  2.71903189e-02, -1.23206678e-04,\n",
       "         9.85290515e-02,  3.95845121e-02],\n",
       "       [-1.32375772e-02, -1.04769460e-02, -3.83728234e-03,\n",
       "        -3.41870154e-03,  6.52117443e-03,  8.45404929e-03,\n",
       "        -2.96626900e-02, -6.69809220e-03, -4.13198756e-04,\n",
       "        -1.84771962e-02, -3.50471904e-02],\n",
       "       [-3.37406901e-03, -6.71264015e-03,  1.44417680e-02,\n",
       "         1.97637072e-02,  3.07269879e-03,  9.40306334e-03,\n",
       "        -6.35026602e-03, -4.40107558e-03, -1.43803828e-04,\n",
       "        -2.33911111e-02,  1.42729055e-01],\n",
       "       [-4.69030296e-03, -2.22043172e-03, -2.66931428e-03,\n",
       "        -9.20264208e-04,  1.03175020e-02,  1.37264307e-02,\n",
       "        -2.46087610e-02,  1.31325525e-02, -1.53490669e-04,\n",
       "         6.92906065e-02, -8.98938895e-02],\n",
       "       [-4.46892645e-03, -7.69920679e-03,  4.68657846e-03,\n",
       "         2.48688940e-03,  1.35556158e-02,  1.36374688e-02,\n",
       "        -1.22066591e-02,  1.17446835e-02, -7.89512119e-05,\n",
       "         1.22024849e-01,  2.53940212e-02],\n",
       "       [ 1.06192181e-02,  9.46627139e-03,  2.53009821e-03,\n",
       "         3.40232836e-03, -1.19869222e-02, -1.04930479e-02,\n",
       "        -1.96109337e-02, -6.08625323e-03, -3.18737397e-04,\n",
       "        -1.30302077e-02, -3.82292391e-02],\n",
       "       [ 8.03361282e-03,  1.13203754e-02, -1.22101708e-03,\n",
       "        -5.43814783e-03, -5.94471802e-03, -3.54364773e-03,\n",
       "        -2.86536955e-02, -6.06291826e-03, -4.23580481e-04,\n",
       "        -1.47425185e-02, -3.51889832e-02],\n",
       "       [ 8.79899661e-03,  9.47894226e-03, -2.28859511e-03,\n",
       "        -6.08081521e-03, -6.05968773e-03, -6.10223786e-03,\n",
       "        -2.87672980e-02, -4.52464651e-03, -4.05283082e-04,\n",
       "        -1.38025838e-02, -3.21120300e-02],\n",
       "       [ 4.72550409e-03,  2.13812144e-03,  8.70764023e-03,\n",
       "         9.14209332e-03, -3.01086349e-03, -3.03587363e-03,\n",
       "        -1.77227403e-02, -5.35984154e-03, -1.16752203e-04,\n",
       "        -2.29792509e-02,  2.57635126e-02],\n",
       "       [-2.87044956e-03, -4.64994125e-03,  3.35991809e-03,\n",
       "         4.08178678e-03,  8.81882135e-03,  8.39660102e-03,\n",
       "        -2.69651556e-03,  6.61119428e-03, -1.25191787e-04,\n",
       "         1.79209189e-01,  1.19446420e-01],\n",
       "       [ 8.28292329e-04,  2.32955656e-03,  3.40148186e-03,\n",
       "         2.99139862e-03, -2.26293536e-02, -1.93689030e-02,\n",
       "        -2.38122390e-02,  1.32000554e-02,  2.89949370e-03,\n",
       "        -2.17803739e-02, -3.35686693e-03],\n",
       "       [ 1.10947603e-03,  7.87286244e-03,  2.36434217e-02,\n",
       "         2.15673145e-02,  7.64700498e-03, -4.04947073e-03,\n",
       "         1.65994504e-01, -1.46773317e-02, -1.30506741e-04,\n",
       "        -9.75351017e-03,  1.98872743e-02],\n",
       "       [ 3.21685274e-02,  3.87094983e-02,  4.16539596e-03,\n",
       "         2.56570431e-03,  2.93393537e-02,  4.34225931e-02,\n",
       "        -1.80888744e-02, -6.56093964e-03, -1.29174415e-04,\n",
       "        -1.58707111e-02,  4.71145621e-02],\n",
       "       [-2.13448040e-03, -7.50452369e-03,  4.19234747e-03,\n",
       "         3.76979890e-03,  1.10451882e-02,  1.25676515e-02,\n",
       "        -1.12864502e-02,  1.05535787e-02, -6.12552937e-05,\n",
       "         1.20470648e-01,  2.74638593e-02],\n",
       "       [ 2.02413762e-02,  1.82459004e-02,  4.24331394e-03,\n",
       "         6.67892504e-03,  1.50330670e-02,  1.92087743e-02,\n",
       "        -1.67029560e-02, -4.41540140e-03, -9.17930836e-05,\n",
       "        -1.13734797e-02, -5.04241452e-02],\n",
       "       [-2.35206671e-02, -3.09847533e-02, -1.12190768e-02,\n",
       "        -7.62065169e-03,  1.26497130e-02,  1.50967459e-02,\n",
       "        -2.62473942e-02, -5.84892309e-03, -1.39563602e-04,\n",
       "        -2.88888545e-02,  4.26639553e-03],\n",
       "       [ 1.62431987e-02,  1.43589556e-02, -1.13107128e-02,\n",
       "        -9.80344391e-03,  8.64857759e-03,  1.25486596e-02,\n",
       "        -2.73213591e-02, -6.13457545e-03, -2.24002818e-04,\n",
       "        -1.18973114e-02, -7.21552532e-02],\n",
       "       [ 1.74345385e-02,  2.85966822e-02, -1.80547942e-03,\n",
       "         2.46685158e-03,  2.58977632e-02,  3.48966467e-02,\n",
       "        -6.54817056e-03, -7.15907331e-03, -8.80720738e-05,\n",
       "        -1.84971330e-02,  2.42713387e-02],\n",
       "       [-1.58385827e-02, -1.15621434e-02,  3.66894470e-03,\n",
       "         4.45952293e-03,  6.72529935e-03,  8.37350520e-03,\n",
       "        -2.54455091e-02, -7.55107797e-03, -4.06683209e-04,\n",
       "        -1.59815775e-02, -4.52405839e-02],\n",
       "       [-9.63236716e-03, -1.03334118e-02, -5.85538169e-03,\n",
       "        -3.67329903e-03,  5.34215397e-03,  8.02624582e-03,\n",
       "        -2.93794415e-02, -6.39028533e-03, -4.59719730e-04,\n",
       "        -1.79730746e-02, -3.59650699e-02],\n",
       "       [-1.98335565e-02, -3.49428719e-02, -1.34621830e-02,\n",
       "        -1.10883436e-02,  1.10896394e-02,  1.86905540e-02,\n",
       "        -2.40270556e-02, -5.49672226e-03, -1.36568236e-04,\n",
       "        -2.93105637e-02,  6.06064150e-03],\n",
       "       [ 8.92668267e-03,  1.16485135e-02, -6.23834191e-03,\n",
       "        -9.52971305e-03, -1.75907420e-02, -1.55885835e-02,\n",
       "        -2.26241398e-02, -4.97001094e-03, -2.22386585e-04,\n",
       "        -3.54453209e-02,  3.10571987e-02],\n",
       "       [-1.49810128e-02, -1.68862119e-02,  8.30050597e-03,\n",
       "         7.82716057e-03,  1.05079832e-02,  1.25000527e-02,\n",
       "        -1.33115398e-02, -6.76806191e-03, -2.21877093e-04,\n",
       "        -3.18079025e-02,  3.50525717e-02],\n",
       "       [ 1.03222667e-02,  1.19820031e-02,  4.19565741e-03,\n",
       "         5.82716102e-03, -1.73910048e-02, -1.29468202e-02,\n",
       "        -1.28176450e-02, -7.49940152e-03, -1.94141637e-04,\n",
       "        -2.92752984e-02,  3.45830418e-02],\n",
       "       [-1.49437790e-02, -1.24314182e-02,  3.50732604e-03,\n",
       "         3.89697426e-03,  6.55013818e-03,  9.23396053e-03,\n",
       "        -2.31566870e-02, -6.05707559e-03, -3.33028463e-04,\n",
       "        -1.53898564e-02, -4.96754400e-02],\n",
       "       [ 7.78494353e-04,  4.16828970e-03, -1.32922767e-02,\n",
       "        -1.11493075e-02,  1.07681128e-02, -7.52149973e-03,\n",
       "         1.03713400e-01, -2.07851773e-02, -9.79320681e-05,\n",
       "        -1.79722764e-02, -4.89000719e-03],\n",
       "       [ 9.62339725e-03,  1.14807945e-02,  3.01854942e-03,\n",
       "         3.92921366e-03, -1.19291369e-02, -1.06341590e-02,\n",
       "        -2.26771849e-02, -5.07311857e-03, -3.26356466e-04,\n",
       "        -1.31793621e-02, -3.79700620e-02],\n",
       "       [ 1.21693529e-02,  2.13825530e-02, -1.58094702e-02,\n",
       "        -2.54954067e-02,  1.10542531e-02,  1.80364853e-02,\n",
       "        -1.42956725e-02, -4.43437592e-03, -1.63300963e-04,\n",
       "        -2.74881677e-02,  7.50438351e-02],\n",
       "       [-1.54631110e-02, -1.25825192e-02,  3.64063132e-03,\n",
       "         4.40308249e-03,  7.16699963e-03,  8.71786876e-03,\n",
       "        -2.27690009e-02, -6.65894959e-03, -3.69409865e-04,\n",
       "        -1.60038028e-02, -4.88806745e-02],\n",
       "       [-2.19485149e-02, -2.83844421e-02, -1.48550374e-02,\n",
       "        -1.09642765e-02,  8.38098231e-03,  1.25878434e-02,\n",
       "        -2.54832608e-02, -7.23372188e-03, -1.52848237e-04,\n",
       "        -2.73240875e-02,  1.29203339e-02],\n",
       "       [ 3.69740854e-03,  7.11114082e-03, -8.14711146e-03,\n",
       "        -5.96250520e-04,  9.08421410e-03, -4.21945305e-03,\n",
       "         1.39749621e-01,  6.02233918e-02, -4.39076597e-05,\n",
       "         8.18382914e-02,  2.27139024e-02],\n",
       "       [ 2.71847173e-03, -6.67473084e-04, -1.16438945e-02,\n",
       "        -1.00706456e-02,  4.82557253e-03, -1.70743159e-03,\n",
       "         1.36289882e-01, -1.32560992e-02, -1.29381584e-04,\n",
       "        -1.56680631e-02,  1.07025820e-03],\n",
       "       [-6.04146548e-03, -5.01280597e-03,  2.86181784e-03,\n",
       "         2.99035426e-03, -4.02153065e-03, -3.17319105e-03,\n",
       "        -2.30039538e-02, -7.26646257e-03, -4.69333859e-04,\n",
       "        -1.34129136e-02, -4.86951608e-02],\n",
       "       [ 6.68022807e-04, -3.79712735e-03,  2.18004676e-02,\n",
       "         1.82173523e-02,  7.23507181e-03, -2.00872804e-03,\n",
       "         2.17213159e-01, -6.35507330e-03, -6.95938073e-05,\n",
       "        -1.08770538e-02,  7.62343633e-03],\n",
       "       [ 1.08844896e-02,  1.14443565e-02,  3.15746193e-03,\n",
       "         4.19745642e-03, -1.27260918e-02, -1.11299537e-02,\n",
       "        -2.14951012e-02, -5.53588954e-03, -3.11118328e-04,\n",
       "        -1.27740278e-02, -3.94490072e-02],\n",
       "       [-3.37142097e-03, -4.03756394e-03, -2.82575309e-03,\n",
       "        -2.08666945e-03,  8.51453334e-03,  7.21286481e-03,\n",
       "        -2.33690876e-02,  1.27549631e-02, -2.66597537e-04,\n",
       "         7.37137149e-02, -8.49283463e-02],\n",
       "       [ 5.60752900e-03,  8.77108752e-03,  3.99149612e-03,\n",
       "         1.21368388e-03, -2.23436113e-02, -2.11121023e-02,\n",
       "        -1.59156129e-02, -7.02312082e-03, -1.28309450e-04,\n",
       "        -2.20961903e-02, -1.00954811e-02],\n",
       "       [ 7.40650661e-03,  1.27924931e-02,  3.85946854e-03,\n",
       "         3.19815540e-03,  8.12659823e-03,  9.30922726e-03,\n",
       "        -9.85313346e-03, -5.53364244e-03, -1.98424005e-04,\n",
       "        -2.95883156e-02,  1.10070923e-02],\n",
       "       [-6.73652212e-03, -4.68012020e-03,  2.82907078e-03,\n",
       "         3.10541487e-03, -4.46644533e-03, -3.23441352e-03,\n",
       "        -2.55483158e-02, -5.76937016e-03, -4.37459577e-04,\n",
       "        -1.17805471e-02, -4.85259375e-02],\n",
       "       [ 9.15693786e-03,  1.00374142e-02,  2.56408317e-03,\n",
       "         4.23171931e-03, -1.28516987e-02, -9.15161084e-03,\n",
       "        -2.15019544e-02, -5.41020388e-03, -3.00449439e-04,\n",
       "        -1.10924682e-02, -3.94191941e-02],\n",
       "       [-1.31533417e-02, -1.15040840e-02,  3.14230166e-03,\n",
       "         3.65333472e-03,  7.77999890e-03,  9.74253277e-03,\n",
       "        -2.09595956e-02, -7.27358312e-03, -3.63151041e-04,\n",
       "        -1.53278216e-02, -5.45354766e-02],\n",
       "       [ 9.68431078e-03,  1.23433005e-02, -4.79227083e-03,\n",
       "        -8.21627087e-03, -2.00428882e-02, -1.84142793e-02,\n",
       "        -2.92561687e-02,  1.43751443e-02,  5.86399167e-03,\n",
       "        -3.06211755e-02,  2.94504783e-02],\n",
       "       [ 1.94787803e-03,  6.28044164e-03, -5.82466397e-03,\n",
       "         6.84803470e-05,  9.19906722e-03, -4.61580719e-03,\n",
       "         7.31896077e-02,  4.02778089e-02, -9.03444352e-05,\n",
       "         1.11156666e-01,  8.62429819e-03],\n",
       "       [ 9.97658405e-03,  7.24473505e-03, -2.76475564e-03,\n",
       "        -5.95537046e-03, -1.03971618e-02, -5.24093144e-03,\n",
       "        -2.79367050e-02, -7.36466010e-03, -4.41718039e-04,\n",
       "        -1.60006288e-02, -2.29846263e-02],\n",
       "       [-1.65914974e-02, -1.34818446e-02,  3.39084757e-03,\n",
       "         4.23637826e-03,  7.69728300e-03,  1.01400083e-02,\n",
       "        -2.51177600e-02, -4.45331135e-03, -4.00757066e-04,\n",
       "        -1.52750647e-02, -4.89431676e-02],\n",
       "       [ 1.06513393e-02,  1.07744086e-02,  2.31403636e-03,\n",
       "         3.35459133e-03, -1.20459515e-02, -1.00494591e-02,\n",
       "        -2.28785014e-02, -5.57659405e-03, -3.31198765e-04,\n",
       "        -1.26691917e-02, -3.72809042e-02],\n",
       "       [-5.84568312e-03, -5.04894846e-03,  2.59049737e-03,\n",
       "         3.47168035e-03, -3.98199957e-03, -3.30568497e-03,\n",
       "        -2.52809878e-02, -7.18707205e-03, -5.64122365e-04,\n",
       "        -1.14667516e-02, -4.86255735e-02],\n",
       "       [ 2.91916250e-03, -7.44502014e-04,  1.95786690e-02,\n",
       "         1.60069835e-02,  2.73337013e-03, -1.38848754e-03,\n",
       "         2.15069657e-01, -9.58611361e-03, -1.40545895e-04,\n",
       "        -1.48372853e-02,  1.92123825e-02],\n",
       "       [ 4.51572280e-03,  1.88250367e-03, -9.50021072e-03,\n",
       "        -9.01481521e-03,  6.31246777e-03, -1.34266993e-03,\n",
       "         1.32213168e-01, -1.42024047e-02, -1.49811213e-04,\n",
       "        -1.51584661e-02,  1.40617138e-02],\n",
       "       [-3.60389131e-03, -2.52357098e-03,  8.61987044e-03,\n",
       "         5.74484760e-03,  6.81955062e-03, -2.90497694e-03,\n",
       "         1.54510361e-01,  1.74722038e-02, -8.50676084e-05,\n",
       "         6.46186572e-02,  1.47632006e-02],\n",
       "       [-1.34073547e-02, -1.54619359e-02,  6.64791524e-03,\n",
       "         8.45044772e-03,  1.09615316e-02,  1.22328479e-02,\n",
       "        -1.43346260e-02, -6.89787460e-03, -2.23066997e-04,\n",
       "        -3.30350802e-02,  3.52788642e-02],\n",
       "       [-5.73311373e-03, -5.48112706e-03, -3.23049624e-03,\n",
       "        -3.07907416e-03, -3.46079021e-03, -2.05807923e-03,\n",
       "        -3.59213374e-02, -6.45848899e-03, -5.86878677e-04,\n",
       "        -1.03673158e-02, -2.98477355e-02],\n",
       "       [ 2.16577994e-02,  1.83502578e-02,  3.79704324e-03,\n",
       "         5.61298946e-03,  1.57785692e-02,  1.91713599e-02,\n",
       "        -1.75751693e-02, -4.60917810e-03, -1.26781135e-04,\n",
       "        -1.10768491e-02, -5.03364598e-02],\n",
       "       [ 7.15388584e-03,  1.55778405e-02, -3.69460278e-03,\n",
       "        -5.08271158e-03, -2.16890139e-02, -2.07920170e-02,\n",
       "        -2.64029530e-02, -5.70657757e-03, -1.53234303e-04,\n",
       "        -2.27443101e-02, -3.09268302e-03],\n",
       "       [ 8.66782225e-03,  9.08677560e-03,  5.17402765e-03,\n",
       "         6.64809049e-03, -1.38195389e-02, -1.17837353e-02,\n",
       "        -1.34850739e-02, -5.43371928e-03, -1.90806980e-04,\n",
       "        -3.24085371e-02,  4.05881928e-02],\n",
       "       [ 1.05252560e-02,  9.72175421e-03,  3.01451787e-03,\n",
       "         4.83904630e-03, -1.15068873e-02, -1.00499484e-02,\n",
       "        -2.12633174e-02, -7.22333689e-03, -3.28641092e-04,\n",
       "        -1.05384287e-02, -4.09274397e-02],\n",
       "       [-4.95900330e-03, -5.26666992e-03,  5.33875667e-03,\n",
       "         6.64090087e-03, -7.16055654e-03, -4.58444270e-03,\n",
       "        -1.46404543e-02, -7.63949520e-03, -2.19481260e-04,\n",
       "        -3.33970381e-02,  2.37413847e-02],\n",
       "       [-9.67599568e-03, -1.14320573e-02, -2.83303265e-03,\n",
       "        -2.91991721e-03,  6.60141927e-03,  8.70844603e-03,\n",
       "        -3.07572101e-02, -6.64782808e-03, -4.27877366e-04,\n",
       "        -1.61457672e-02, -4.07638307e-02],\n",
       "       [ 9.72439306e-03,  9.60766321e-03, -1.41362545e-03,\n",
       "        -4.12088767e-03, -7.19473798e-03, -5.33024075e-03,\n",
       "        -3.06773196e-02, -5.05990963e-03, -3.90434529e-04,\n",
       "        -1.19820851e-02, -3.50280540e-02],\n",
       "       [ 1.06350951e-02,  1.04225595e-02,  2.40370231e-03,\n",
       "         3.25681215e-03, -1.20809982e-02, -1.06825093e-02,\n",
       "        -2.40639495e-02, -7.12557265e-03, -2.98656959e-04,\n",
       "        -1.07044471e-02, -3.54994605e-02]])"
      ]
     },
     "execution_count": 111,
     "metadata": {},
     "output_type": "execute_result"
    }
   ],
   "source": [
    "model.get_shap_values(X_train, X_test, feature = 'enum',  plot=True,)"
   ]
  },
  {
   "cell_type": "markdown",
   "metadata": {},
   "source": [
    "### **LIME**"
   ]
  },
  {
   "cell_type": "markdown",
   "metadata": {},
   "source": [
    "We use here the librairie survlimepy in order to generate LIME interpretation of survival models."
   ]
  },
  {
   "cell_type": "code",
   "execution_count": 112,
   "metadata": {},
   "outputs": [],
   "source": [
    "model.get_lime_explanation(X_train, X_test, y_test, sample_idx = [3,5])   # sample_idx represents the rows we want to analyse"
   ]
  },
  {
   "cell_type": "markdown",
   "metadata": {},
   "source": [
    "## **Hyperparameters importance**"
   ]
  },
  {
   "cell_type": "code",
   "execution_count": 114,
   "metadata": {},
   "outputs": [],
   "source": [
    "#The hyperparameters_range should contains only a list afo min_val or max_val, except for str hyperparameters (list of str you want to test)\n",
    "\n",
    "hyperparameters_range_GB = {\n",
    "    'learning_rate' : [0.001,0.5],\n",
    "    'n_estimators' : [50,200],\n",
    "    'max_depth' : [2,13],\n",
    "    'subsample' : [0.01,1],\n",
    "    'min_samples_split' : [3,14],\n",
    "    'min_samples_leaf' : [3,13]\n",
    "}\n",
    "\n",
    "hyperparameters_range_RF = {\n",
    "    'n_estimators' : [50,200],\n",
    "    'max_depth' : [2,13],\n",
    "    'max_samples' : [1e-3,0.9],\n",
    "    'min_samples_split' : [3,14],\n",
    "    'min_samples_leaf' : [3,13]\n",
    "}\n",
    "\n",
    "hyperparameters_range_SVM = {\n",
    "    'max_iter' : [100,1000],\n",
    "    'degree' : [2,5],\n",
    "    'gamma' : [1e-5,1e3],\n",
    "    'kernel' : ['linear', 'poly']\n",
    "}"
   ]
  },
  {
   "cell_type": "code",
   "execution_count": 116,
   "metadata": {},
   "outputs": [
    {
     "name": "stderr",
     "output_type": "stream",
     "text": []
    },
    {
     "name": "stdout",
     "output_type": "stream",
     "text": [
      "Hyperparameters : learning_rate\n"
     ]
    },
    {
     "name": "stderr",
     "output_type": "stream",
     "text": []
    },
    {
     "name": "stdout",
     "output_type": "stream",
     "text": [
      "Hyperparameters : n_estimators\n"
     ]
    },
    {
     "name": "stderr",
     "output_type": "stream",
     "text": []
    },
    {
     "name": "stdout",
     "output_type": "stream",
     "text": [
      "Hyperparameters : max_depth\n"
     ]
    },
    {
     "name": "stderr",
     "output_type": "stream",
     "text": []
    },
    {
     "name": "stdout",
     "output_type": "stream",
     "text": [
      "Hyperparameters : subsample\n"
     ]
    },
    {
     "name": "stderr",
     "output_type": "stream",
     "text": []
    },
    {
     "name": "stdout",
     "output_type": "stream",
     "text": [
      "Hyperparameters : min_samples_split\n"
     ]
    },
    {
     "name": "stderr",
     "output_type": "stream",
     "text": []
    },
    {
     "name": "stdout",
     "output_type": "stream",
     "text": [
      "Hyperparameters : min_samples_leaf\n"
     ]
    },
    {
     "name": "stderr",
     "output_type": "stream",
     "text": [
      "Progress of Hyperparameters importance:  69%|██████▊   | 960/1400 [08:33<03:55,  1.87it/s]\n"
     ]
    },
    {
     "data": {
      "image/png": "[encoded data removed]",
      "text/plain": [
       "<Figure size 1000x600 with 1 Axes>"
      ]
     },
     "metadata": {},
     "output_type": "display_data"
    },
    {
     "data": {
      "text/plain": [
       "{'min_samples_leaf': 0.5846762003848238,\n",
       " 'max_depth': 0.6463739244318161,\n",
       " 'min_samples_split': 0.8428284980968399,\n",
       " 'subsample': 0.8887674837215105,\n",
       " 'n_estimators': 1.877302264069877,\n",
       " 'learning_rate': 1.9681579618485967}"
      ]
     },
     "execution_count": 116,
     "metadata": {},
     "output_type": "execute_result"
    }
   ],
   "source": [
    "model.hyperparameters_importances(hyperparameters_range_GB, X_train, y_train, n_trials = 20, n_samples = 10, plot = True)"
   ]
  },
  {
   "cell_type": "markdown",
   "metadata": {},
   "source": [
    "## **Learning Curve**"
   ]
  },
  {
   "cell_type": "markdown",
   "metadata": {},
   "source": [
    "This method displays the learning curve of the model, using n_sample for time"
   ]
  },
  {
   "cell_type": "code",
   "execution_count": 118,
   "metadata": {},
   "outputs": [
    {
     "data": {
      "image/png": "[encoded data removed]",
      "text/plain": [
       "<Figure size 640x480 with 1 Axes>"
      ]
     },
     "metadata": {},
     "output_type": "display_data"
    }
   ],
   "source": [
    "model.learning_curve(X_train, X_test, y_train, y_test, n_sample = 25)"
   ]
  },
  {
   "cell_type": "markdown",
   "metadata": {},
   "source": [
    "## Comparaison with Cox model"
   ]
  },
  {
   "cell_type": "code",
   "execution_count": 119,
   "metadata": {},
   "outputs": [
    {
     "name": "stdout",
     "output_type": "stream",
     "text": [
      "The ML model improves the score of \u001b[31m2.97%\u001b[0m compared with the Cox model\n"
     ]
    }
   ],
   "source": [
    "model.compare_to_cox(df_rea_processed.drop(columns=['sex_Male','chemo_Treated','dukes_D','charlson_3']), X_test, y_test, y_train)"
   ]
  }
 ],
 "metadata": {
  "kernelspec": {
   "display_name": "Python 3",
   "language": "python",
   "name": "python3"
  },
  "language_info": {
   "codemirror_mode": {
    "name": "ipython",
    "version": 3
   },
   "file_extension": ".py",
   "mimetype": "text/x-python",
   "name": "python",
   "nbconvert_exporter": "python",
   "pygments_lexer": "ipython3",
   "version": "3.12.2"
  }
 },
 "nbformat": 4,
 "nbformat_minor": 2
}
